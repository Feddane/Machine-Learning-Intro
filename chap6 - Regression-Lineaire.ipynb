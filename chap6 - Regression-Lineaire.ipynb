{
 "cells": [
  {
   "cell_type": "code",
   "execution_count": 1,
   "metadata": {},
   "outputs": [],
   "source": [
    "import numpy as np\n",
    "import pandas as pd\n",
    "import matplotlib.pyplot as plt\n",
    "from sklearn.linear_model import LinearRegression\n",
    "from sklearn.model_selection import train_test_split\n",
    "from sklearn.metrics import mean_squared_error, r2_score\n",
    "\n",
    "%matplotlib inline"
   ]
  },
  {
   "cell_type": "code",
   "execution_count": null,
   "metadata": {},
   "outputs": [],
   "source": [
    "#Loading the Data\n",
    "housing = pd.read_csv('housing.csv')\n",
    "\n",
    "#Examine the data\n",
    "housing.head()"
   ]
  },
  {
   "cell_type": "code",
   "execution_count": null,
   "metadata": {},
   "outputs": [],
   "source": [
    "housing.isnull() .sum()"
   ]
  },
  {
   "cell_type": "code",
   "execution_count": null,
   "metadata": {},
   "outputs": [],
   "source": [
    "# Importation manquante de train_test_split, assurez-vous de l'avoir dans votre code précédent\n",
    "from sklearn.model_selection import train_test_split\n",
    "\n",
    "# Diviser le jeu de données en ensembles d'entraînement et de test\n",
    "X = housing[['Floor Area (sgft)']]\n",
    "y = housing['Value (51000) \"']\n",
    "\n",
    "# Utiliser train_test_split pour diviser les données\n",
    "X_train, X_test, y_train, y_test = train_test_split(X, y, test_size=0.2, random_state=42)\n",
    "\n",
    "# Visualisation des données\n",
    "plt.scatter(X_train['Floor Area (sgft)'], y_train, s=10)\n",
    "plt.title('Housing Price vs Floor Area')\n",
    "plt.xlabel('Floor Area (sqft)')\n",
    "plt.ylabel('Price in $1000s')\n",
    "plt.show()"
   ]
  },
  {
   "cell_type": "code",
   "execution_count": null,
   "metadata": {},
   "outputs": [],
   "source": [
    "#Data Preprocessing\n",
    "\n",
    "#Train the Model\n",
    "lr = LinearRegression()\n",
    "lr.fit (X_train, y_train)"
   ]
  },
  {
   "cell_type": "code",
   "execution_count": null,
   "metadata": {},
   "outputs": [],
   "source": [
    "print(lr.intercept_)\n",
    "print(lr.coef_)"
   ]
  },
  {
   "cell_type": "markdown",
   "metadata": {},
   "source": [
    "houseprice = -29.7 + 0.264 * (floorarea)\n",
    "predict the prices of two houses with floor areas of 250sqft and 300sqft each:\n",
    "houseprice = -29.7 + 0.264 * 250 = 36.3\n",
    "houseprice = -29.7 +0.264 * 300 = 49.5"
   ]
  },
  {
   "cell_type": "code",
   "execution_count": null,
   "metadata": {},
   "outputs": [],
   "source": [
    "predicted_price = lr.predict([[250], [300]])\n",
    "print(predicted_price)"
   ]
  },
  {
   "cell_type": "code",
   "execution_count": null,
   "metadata": {},
   "outputs": [],
   "source": [
    "import matplotlib.pyplot as plt\n",
    "\n",
    "# Scatter plot des données d'entraînement\n",
    "plt.scatter(X_train['Floor Area (sqgft)'], y_train, s=10, label='Training Data')\n",
    "\n",
    "# Prédictions du modèle sur les données d'entraînement\n",
    "y_pred = lr.predict(X_train)\n",
    "\n",
    "# Courbe de régression linéaire\n",
    "plt.plot(X_train['Floor Area (sqgft)'], y_pred, color='red', label='Linear Regression')\n",
    "\n",
    "# Ajout de titres et d'étiquettes d'axe\n",
    "plt.title('Housing Price vs Floor Area')\n",
    "plt.xlabel('Floor Area (sqgft)')\n",
    "plt.ylabel('Price in 51000s')\n",
    "\n",
    "# Affichage de la légende\n",
    "plt.legend()\n",
    "\n",
    "# Affichage du graphique\n",
    "plt.show()\n"
   ]
  },
  {
   "cell_type": "code",
   "execution_count": null,
   "metadata": {},
   "outputs": [],
   "source": [
    "#Evaluate the Model\n",
    "RMSE = mean_squared_error(y_train, y_pred, squared=False)\n",
    "r2 = r2_score(y_train, y_pred)\n",
    "print (RMSE)\n",
    "print (r2)"
   ]
  },
  {
   "cell_type": "code",
   "execution_count": null,
   "metadata": {},
   "outputs": [],
   "source": [
    "y_pred_test = lr.predict(X_test)\n",
    "RMSE = mean_squared_error (y_test, y_pred_test, squared=False)\n",
    "r2 = r2_score(y_test, y_pred_test)\n",
    "print (RMSE)\n",
    "print(r2)"
   ]
  }
 ],
 "metadata": {
  "kernelspec": {
   "display_name": "Python 3",
   "language": "python",
   "name": "python3"
  },
  "language_info": {
   "codemirror_mode": {
    "name": "ipython",
    "version": 3
   },
   "file_extension": ".py",
   "mimetype": "text/x-python",
   "name": "python",
   "nbconvert_exporter": "python",
   "pygments_lexer": "ipython3",
   "version": "3.9.13"
  }
 },
 "nbformat": 4,
 "nbformat_minor": 2
}
