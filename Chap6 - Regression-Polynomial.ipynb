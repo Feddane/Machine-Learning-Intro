{
 "cells": [
  {
   "cell_type": "code",
   "execution_count": null,
   "metadata": {},
   "outputs": [],
   "source": [
    "import numpy as np\n",
    "import pandas as pd\n",
    "import matplotlib.pyplot as plt\n",
    "from sklearn.linear_model import LinearRegression\n",
    "from sklearn.model_selection import train_test_split\n",
    "from sklearn.metrics import mean_squared_error, r2_score\n",
    "\n",
    "%matplotlib inline"
   ]
  },
  {
   "cell_type": "code",
   "execution_count": null,
   "metadata": {},
   "outputs": [],
   "source": [
    "#Loading the Data\n",
    "housing = pd.read_csv('housing.csv')\n",
    "\n",
    "#Examine the data\n",
    "housing.head()"
   ]
  },
  {
   "cell_type": "code",
   "execution_count": null,
   "metadata": {},
   "outputs": [],
   "source": [
    "housing.isnull() .sum()"
   ]
  },
  {
   "cell_type": "code",
   "execution_count": null,
   "metadata": {},
   "outputs": [],
   "source": [
    "# Importation manquante de train_test_split, assurez-vous de l'avoir dans votre code précédent\n",
    "from sklearn.model_selection import train_test_split\n",
    "\n",
    "# Diviser le jeu de données en ensembles d'entraînement et de test\n",
    "X = housing[['Floor Area (sgft)']]\n",
    "y = housing['Value (51000) \"']\n",
    "\n",
    "# Utiliser train_test_split pour diviser les données\n",
    "X_train, X_test, y_train, y_test = train_test_split(X, y, test_size=0.2, random_state=42)\n",
    "\n",
    "# Visualisation des données\n",
    "plt.scatter(X_train['Floor Area (sgft)'], y_train, s=10)\n",
    "plt.title('Housing Price vs Floor Area')\n",
    "plt.xlabel('Floor Area (sqft)')\n",
    "plt.ylabel('Price in $1000s')\n",
    "plt.show()"
   ]
  },
  {
   "cell_type": "code",
   "execution_count": null,
   "metadata": {},
   "outputs": [],
   "source": [
    "from sklearn.preprocessing import PolynomialFeatures\n",
    "poly_features = PolynomialFeatures (degree=2)\n",
    "X_train_transformed = poly_features.fit_transform(X_train)\n",
    "\n",
    "#ce code prépare les données d'entraînement pour être utilisées dans un modèle de régression polynomiale \n",
    "# de degré 2 en ajoutant des termes polynomiaux aux caractéristiques existantes."
   ]
  },
  {
   "cell_type": "code",
   "execution_count": null,
   "metadata": {},
   "outputs": [],
   "source": [
    "print(X_train_transformed[0])\n",
    "#Cette instruction imprimerait la première ligne des données transformées,\n",
    "# montrant les valeurs des caractéristiques après l'application de la transformation polynomiale."
   ]
  },
  {
   "cell_type": "markdown",
   "metadata": {},
   "source": [
    "houseprice = 70.9 + 0 * (floorarea)0 — 0.187 * (floorarea)1 + 0.000473 * ( floorarea)2\n",
    "\n",
    "- the price of a house with a floor area of 250 sqft:\n",
    "\n",
    "houseprice = 70.9 + 0  (250)° — 0.187 * (250)1 + 0.000473 * (250)2 = 53.7125"
   ]
  },
  {
   "cell_type": "code",
   "execution_count": null,
   "metadata": {},
   "outputs": [],
   "source": [
    "# Création d'une instance de modèle de régression linéaire\n",
    "pr = LinearRegression()\n",
    "\n",
    "# Ajustement du modèle aux données transformées\n",
    "pr.fit(X_train_transformed, y_train)\n",
    "\n",
    "# Impression de l'ordonnée à l'origine (intercept) et des coefficients\n",
    "print(\"Intercept (ordonnée à l'origine):\", pr.intercept_)\n",
    "print(\"Coefficients:\", pr.coef_)"
   ]
  },
  {
   "cell_type": "code",
   "execution_count": null,
   "metadata": {},
   "outputs": [],
   "source": [
    "# Transformer la nouvelle valeur avec le même transformateur polynomial\n",
    "num_transformed = poly_features.transform([[250]])\n",
    "\n",
    "# Prédire le prix avec le modèle de régression linéaire ajusté\n",
    "predicted_price = pr.predict(num_transformed)\n",
    "\n",
    "# Afficher la prédiction\n",
    "print(\"Prix prédit:\", predicted_price)"
   ]
  },
  {
   "cell_type": "code",
   "execution_count": null,
   "metadata": {},
   "outputs": [],
   "source": [
    "# Plotting the scatter plot\n",
    "plt.scatter(X_train['Floor Area (sqft)'], y_train, s=10, label='Actual Prices')\n",
    "\n",
    "# Plotting the curve\n",
    "y_pred = pr.predict(X_train_transformed)\n",
    "\n",
    "# Sorting the points for a smoother curve\n",
    "#les points sont triés par ordre croissant de la variable indépendante ('Floor Area (sqft)') pour une meilleure visualisation de la courbe.\n",
    "sorted_zip = sorted(zip(X_train['Floor Area (sqft)'], y_pred))\n",
    "X_train_sorted, y_pred_sorted = zip(*sorted_zip)\n",
    "\n",
    "# Plotting the curve\n",
    "plt.plot(X_train_sorted, y_pred_sorted, color='red', label='Regression Curve')\n",
    "\n",
    "# Labelling the Chart\n",
    "plt.title('Housing Price vs Floor Area')\n",
    "plt.xlabel('Floor Area (sqft)')\n",
    "plt.ylabel('Price in $1000s')"
   ]
  },
  {
   "cell_type": "code",
   "execution_count": null,
   "metadata": {},
   "outputs": [],
   "source": [
    "# Calcul du RMSE\n",
    "RMSE = mean_squared_error(y_train, y_pred, squared=False)\n",
    "\n",
    "# Calcul du R-squared\n",
    "r2 = r2_score(y_train, y_pred)\n",
    "\n",
    "# Affichage des résultats\n",
    "print(\"RMSE:\", RMSE)\n",
    "print(\"R-squared:\", r2)"
   ]
  },
  {
   "cell_type": "code",
   "execution_count": null,
   "metadata": {},
   "outputs": [],
   "source": [
    "# Transformer les données de test avec le même transformateur polynomial\n",
    "X_test_transformed = poly_features.transform(X_test)\n",
    "\n",
    "# Prédire les valeurs sur les données de test\n",
    "y_pred_test = pr.predict(X_test_transformed)\n",
    "\n",
    "# Calcul du RMSE\n",
    "RMSE = mean_squared_error(y_test, y_pred_test, squared=False)\n",
    "\n",
    "# Calcul du R-squared\n",
    "r2 = r2_score(y_test, y_pred_test)\n",
    "\n",
    "# Affichage des résultats\n",
    "print(\"RMSE:\", RMSE)\n",
    "print(\"R-squared:\", r2)"
   ]
  }
 ],
 "metadata": {
  "language_info": {
   "name": "python"
  }
 },
 "nbformat": 4,
 "nbformat_minor": 2
}
