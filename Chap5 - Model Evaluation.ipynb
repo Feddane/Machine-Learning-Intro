{
 "cells": [
  {
   "cell_type": "code",
   "execution_count": 3,
   "metadata": {},
   "outputs": [
    {
     "name": "stdout",
     "output_type": "stream",
     "text": [
      "0.6666666666666666\n"
     ]
    }
   ],
   "source": [
    "from sklearn.metrics import accuracy_score\n",
    "\n",
    "true = ['Elephant', 'Elephant', 'Giraffe', 'Giraffe', 'Elephant', 'Giraffe']\n",
    "pred = ['Elephant', 'Elephant', 'Elephant', 'Giraffe', 'Elephant', 'Elephant']\n",
    "score = accuracy_score(true, pred)\n",
    "\n",
    "print(score)"
   ]
  },
  {
   "cell_type": "code",
   "execution_count": 7,
   "metadata": {},
   "outputs": [
    {
     "name": "stdout",
     "output_type": "stream",
     "text": [
      "1.0\n",
      "0.3333333333333333\n"
     ]
    }
   ],
   "source": [
    "from sklearn.metrics import precision_score, recall_score\n",
    "true = ['Cat', 'Cat', 'Dog', 'Dog', 'Cat', 'Dog']\n",
    "pred = ['Cat', 'Cat', 'Cat', 'Dog', 'Cat', 'Cat']\n",
    "\n",
    "precision = precision_score(true, pred, pos_label = 'Dog')\n",
    "recall = recall_score(true, pred, pos_label = 'Dog')\n",
    "\n",
    "print (precision)\n",
    "print (recall)"
   ]
  },
  {
   "cell_type": "code",
   "execution_count": 5,
   "metadata": {},
   "outputs": [
    {
     "name": "stdout",
     "output_type": "stream",
     "text": [
      "0.6442049363362565\n",
      "0.902696365767878\n"
     ]
    }
   ],
   "source": [
    "from sklearn.metrics import r2_score, mean_squared_error\n",
    "pred = [2.1, 1.4, 5.6, 7.9]\n",
    "true = [2.5, 1.6, 5.1, 6.8]\n",
    "\n",
    "RMSE = mean_squared_error (true, pred, squared=False)\n",
    "r2 = r2_score(true, pred)\n",
    "\n",
    "print (RMSE)\n",
    "print (r2)\n"
   ]
  },
  {
   "cell_type": "markdown",
   "metadata": {},
   "source": [
    "Train Test Split with Scikit-Learn\n",
    "\n",
    "X = [1, 2, 3, 4, 5, 6, 7, 8, 9, 10]\n",
    "y = [23, 11, 31, 45, 12, 65, 43, 69, 13, 12]\n",
    "\n",
    "# Train Test Split\n",
    "Training Subset:\n",
    "X_train = [1, 2, 4, 5, 6, 7, 9, 10]\n",
    "y_train = [23, 11, 45, 12, 65, 43, 13, 12]\n",
    "\n",
    "Test Subset:\n",
    "X_test = [3, 8]\n",
    "y_test = [31, 69]\n"
   ]
  },
  {
   "cell_type": "markdown",
   "metadata": {},
   "source": [
    "k-Fold Cross Validation\n",
    "\n",
    "X = [1, 2, 3, 4, 5, 6, 7, 8, 9]\n",
    "y = [23, 11, 31, 45, 12, 65, 43, 69, 13]\n",
    "\n",
    "k-Fold Cross-validation:\n",
    "Fold 1: X=[1, 2, 3], y=[23, 11, 31]\n",
    "Fold 2: X=[4, 5, 6], y=[45, 12, 65]\n",
    "Fold 3: X=[7, 8, 9], y=[43, 69, 13]\n"
   ]
  },
  {
   "cell_type": "code",
   "execution_count": 8,
   "metadata": {},
   "outputs": [
    {
     "name": "stdout",
     "output_type": "stream",
     "text": [
      "Training Subset:\n",
      "X_train: [6, 1, 8, 3, 10, 5, 4, 7]\n",
      "y_train: [65, 23, 69, 31, 12, 12, 45, 43]\n",
      "\n",
      "Test Subset:\n",
      "X_test: [9, 2]\n",
      "y_test: [13, 11]\n"
     ]
    }
   ],
   "source": [
    "from sklearn.model_selection import train_test_split\n",
    "\n",
    "X = [1, 2, 3, 4, 5, 6, 7, 8, 9, 10]\n",
    "y = [23, 11, 31, 45, 12, 65, 43, 69, 13, 12]\n",
    "\n",
    "# Train Test Split\n",
    "X_train, X_test, y_train, y_test = train_test_split(X, y, test_size=0.2, random_state=42)\n",
    "\n",
    "# Training Subset\n",
    "print(\"Training Subset:\")\n",
    "print(\"X_train:\", X_train)\n",
    "print(\"y_train:\", y_train)\n",
    "\n",
    "# Test Subset\n",
    "print(\"\\nTest Subset:\")\n",
    "print(\"X_test:\", X_test)\n",
    "print(\"y_test:\", y_test)\n"
   ]
  },
  {
   "cell_type": "code",
   "execution_count": 9,
   "metadata": {},
   "outputs": [
    {
     "name": "stdout",
     "output_type": "stream",
     "text": [
      "Fold 1:\n",
      "Training Subset - X: [1, 3, 4, 5, 7, 9] y: [23, 31, 45, 12, 43, 13]\n",
      "Test Subset - X: [2, 6, 8] y: [11, 65, 69]\n",
      "\n",
      "Fold 2:\n",
      "Training Subset - X: [2, 4, 5, 6, 7, 8] y: [11, 45, 12, 65, 43, 69]\n",
      "Test Subset - X: [1, 3, 9] y: [23, 31, 13]\n",
      "\n",
      "Fold 3:\n",
      "Training Subset - X: [1, 2, 3, 6, 8, 9] y: [23, 11, 31, 65, 69, 13]\n",
      "Test Subset - X: [4, 5, 7] y: [45, 12, 43]\n",
      "\n"
     ]
    }
   ],
   "source": [
    "from sklearn.model_selection import KFold\n",
    "\n",
    "X = [1, 2, 3, 4, 5, 6, 7, 8, 9]\n",
    "y = [23, 11, 31, 45, 12, 65, 43, 69, 13]\n",
    "\n",
    "# k-Fold Cross-validation\n",
    "kf = KFold(n_splits=3, shuffle=True, random_state=42)\n",
    "\n",
    "for fold, (train_idx, test_idx) in enumerate(kf.split(X, y), 1):\n",
    "    X_train, X_test = [X[i] for i in train_idx], [X[i] for i in test_idx]\n",
    "    y_train, y_test = [y[i] for i in train_idx], [y[i] for i in test_idx]\n",
    "\n",
    "    print(f\"Fold {fold}:\")\n",
    "    print(\"Training Subset - X:\", X_train, \"y:\", y_train)\n",
    "    print(\"Test Subset - X:\", X_test, \"y:\", y_test)\n",
    "    print()"
   ]
  }
 ],
 "metadata": {
  "kernelspec": {
   "display_name": "Python 3",
   "language": "python",
   "name": "python3"
  },
  "language_info": {
   "codemirror_mode": {
    "name": "ipython",
    "version": 3
   },
   "file_extension": ".py",
   "mimetype": "text/x-python",
   "name": "python",
   "nbconvert_exporter": "python",
   "pygments_lexer": "ipython3",
   "version": "3.9.13"
  }
 },
 "nbformat": 4,
 "nbformat_minor": 2
}
