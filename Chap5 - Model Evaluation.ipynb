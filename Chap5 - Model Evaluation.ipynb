{
 "cells": [
  {
   "cell_type": "code",
   "execution_count": 3,
   "metadata": {},
   "outputs": [
    {
     "name": "stdout",
     "output_type": "stream",
     "text": [
      "0.6666666666666666\n"
     ]
    }
   ],
   "source": [
    "from sklearn.metrics import accuracy_score\n",
    "\n",
    "true = ['Elephant', 'Elephant', 'Giraffe', 'Giraffe', 'Elephant', 'Giraffel']\n",
    "pred = ['Elephant', 'Elephant', 'Elephant', 'Giraffe', 'Elephant', 'Elephant']\n",
    "score = accuracy_score(true, pred)\n",
    "\n",
    "print (score)"
   ]
  },
  {
   "cell_type": "code",
   "execution_count": 4,
   "metadata": {},
   "outputs": [
    {
     "name": "stdout",
     "output_type": "stream",
     "text": [
      "1.0\n",
      "0.3333333333333333\n"
     ]
    }
   ],
   "source": [
    "from sklearn.metrics import precision_score, recall_score\n",
    "true = ['Cat', 'Cat', 'Dog', 'Dog', 'Cat', 'Dog']\n",
    "pred = ['Cat', 'Cat', 'Cat', 'Dog', 'Cat', 'Cat']\n",
    "\n",
    "precision = precision_score(true, pred, pos_label = 'Dog')\n",
    "recall = recall_score(true, pred, pos_label = 'Dog')\n",
    "\n",
    "print (precision)\n",
    "print (recall)"
   ]
  },
  {
   "cell_type": "code",
   "execution_count": 5,
   "metadata": {},
   "outputs": [
    {
     "name": "stdout",
     "output_type": "stream",
     "text": [
      "0.6442049363362565\n",
      "0.902696365767878\n"
     ]
    }
   ],
   "source": [
    "from sklearn.metrics import r2_score, mean_squared_error\n",
    "pred = [2.1, 1.4, 5.6, 7.9]\n",
    "true = [2.5, 1.6, 5.1, 6.8]\n",
    "\n",
    "RMSE = mean_squared_error (true, pred, squared=False)\n",
    "r2 = r2_score(true, pred)\n",
    "\n",
    "print (RMSE)\n",
    "print (r2)\n"
   ]
  }
 ],
 "metadata": {
  "kernelspec": {
   "display_name": "Python 3",
   "language": "python",
   "name": "python3"
  },
  "language_info": {
   "codemirror_mode": {
    "name": "ipython",
    "version": 3
   },
   "file_extension": ".py",
   "mimetype": "text/x-python",
   "name": "python",
   "nbconvert_exporter": "python",
   "pygments_lexer": "ipython3",
   "version": "3.9.13"
  }
 },
 "nbformat": 4,
 "nbformat_minor": 2
}
