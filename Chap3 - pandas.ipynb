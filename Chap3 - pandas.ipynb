{
 "cells": [
  {
   "cell_type": "markdown",
   "metadata": {
    "id": "AmpuG_ijfaHe"
   },
   "source": [
    "#  Chapter 2 - pandas\n",
    "Prepared by Dr. N. Ali Saoucha Associate Professor A University of Algiers (nalisaoucha@gmail.com)"
   ]
  },
  {
   "cell_type": "code",
   "execution_count": 1,
   "metadata": {
    "executionInfo": {
     "elapsed": 47,
     "status": "ok",
     "timestamp": 1696914110683,
     "user": {
      "displayName": "Naziha ALI SAOUCHA",
      "userId": "07522524245521110784"
     },
     "user_tz": -60
    },
    "id": "JAAc2iy_fVPZ"
   },
   "outputs": [],
   "source": [
    "#Importing the pandas Library\n",
    "import pandas as pd"
   ]
  },
  {
   "cell_type": "markdown",
   "metadata": {
    "id": "COyQVsWQiXKU"
   },
   "source": [
    "# Creating a pandas Series"
   ]
  },
  {
   "cell_type": "code",
   "execution_count": 2,
   "metadata": {
    "colab": {
     "base_uri": "https://localhost:8080/"
    },
    "executionInfo": {
     "elapsed": 46,
     "status": "ok",
     "timestamp": 1696914110685,
     "user": {
      "displayName": "Naziha ALI SAOUCHA",
      "userId": "07522524245521110784"
     },
     "user_tz": -60
    },
    "id": "yHbqUIoJiQHL",
    "outputId": "0f9df04b-4006-4f18-a7d2-8976692a8350"
   },
   "outputs": [
    {
     "name": "stdout",
     "output_type": "stream",
     "text": [
      "[1, 2, 3, 4, 5]\n",
      "\n",
      "0    1\n",
      "1    2\n",
      "2    3\n",
      "3    4\n",
      "4    5\n",
      "dtype: int64\n",
      "\n",
      "P    1\n",
      "Q    2\n",
      "R    3\n",
      "S    4\n",
      "T    5\n",
      "dtype: int64\n",
      "\n"
     ]
    }
   ],
   "source": [
    "list1 = [1, 2, 3, 4, 5]\n",
    "print(list1, end='\\n\\n')\n",
    "series1 = pd.Series(list1)\n",
    "print(series1, end='\\n\\n')\n",
    "series2 = pd.Series(list1, index=['P', 'Q', 'R', 'S', 'T'])\n",
    "print(series2, end='\\n\\n')"
   ]
  },
  {
   "cell_type": "markdown",
   "metadata": {
    "id": "__LgHDot4Wls"
   },
   "source": [
    "# Creating a pandas DataFrame\n"
   ]
  },
  {
   "cell_type": "code",
   "execution_count": 3,
   "metadata": {
    "colab": {
     "base_uri": "https://localhost:8080/"
    },
    "executionInfo": {
     "elapsed": 42,
     "status": "ok",
     "timestamp": 1696914110686,
     "user": {
      "displayName": "Naziha ALI SAOUCHA",
      "userId": "07522524245521110784"
     },
     "user_tz": -60
    },
    "id": "_BzPrBlF5Ln0",
    "outputId": "2ec2e952-bc26-45c0-9e4a-8f7b180a777f"
   },
   "outputs": [
    {
     "name": "stdout",
     "output_type": "stream",
     "text": [
      "   0  1  2\n",
      "0  1  2  3\n",
      "1  4  5  6\n",
      "\n",
      "   A  B\n",
      "0  1  4\n",
      "1  2  5\n",
      "2  3  6\n",
      "\n"
     ]
    }
   ],
   "source": [
    "# Creating from a 2D list\n",
    "myList = [[1, 2, 3], [4, 5, 6]]\n",
    "df1 = pd.DataFrame(myList)\n",
    "print(df1, end='\\n\\n')\n",
    "# Creating from a dictionary of lists\n",
    "myDict = {'A':[1, 2, 3], 'B':[4, 5, 6]}\n",
    "df2 = pd.DataFrame(myDict)\n",
    "print(df2, end='\\n\\n')"
   ]
  },
  {
   "cell_type": "code",
   "execution_count": 4,
   "metadata": {
    "colab": {
     "base_uri": "https://localhost:8080/",
     "height": 112
    },
    "executionInfo": {
     "elapsed": 38,
     "status": "ok",
     "timestamp": 1696914110687,
     "user": {
      "displayName": "Naziha ALI SAOUCHA",
      "userId": "07522524245521110784"
     },
     "user_tz": -60
    },
    "id": "RRjyMkby51ow",
    "outputId": "aaf2a757-1559-4bc1-bd13-d3ca74807e11"
   },
   "outputs": [
    {
     "data": {
      "text/html": [
       "<div>\n",
       "<style scoped>\n",
       "    .dataframe tbody tr th:only-of-type {\n",
       "        vertical-align: middle;\n",
       "    }\n",
       "\n",
       "    .dataframe tbody tr th {\n",
       "        vertical-align: top;\n",
       "    }\n",
       "\n",
       "    .dataframe thead th {\n",
       "        text-align: right;\n",
       "    }\n",
       "</style>\n",
       "<table border=\"1\" class=\"dataframe\">\n",
       "  <thead>\n",
       "    <tr style=\"text-align: right;\">\n",
       "      <th></th>\n",
       "      <th>1st</th>\n",
       "      <th>2nd</th>\n",
       "      <th>3rd</th>\n",
       "      <th>4th</th>\n",
       "      <th>5th</th>\n",
       "    </tr>\n",
       "  </thead>\n",
       "  <tbody>\n",
       "    <tr>\n",
       "      <th>A</th>\n",
       "      <td>1</td>\n",
       "      <td>2</td>\n",
       "      <td>3</td>\n",
       "      <td>4</td>\n",
       "      <td>5</td>\n",
       "    </tr>\n",
       "    <tr>\n",
       "      <th>B</th>\n",
       "      <td>10</td>\n",
       "      <td>20</td>\n",
       "      <td>30</td>\n",
       "      <td>40</td>\n",
       "      <td>50</td>\n",
       "    </tr>\n",
       "  </tbody>\n",
       "</table>\n",
       "</div>"
      ],
      "text/plain": [
       "   1st  2nd  3rd  4th  5th\n",
       "A    1    2    3    4    5\n",
       "B   10   20   30   40   50"
      ]
     },
     "execution_count": 4,
     "metadata": {},
     "output_type": "execute_result"
    }
   ],
   "source": [
    "myList2 = [[1, 2, 3, 4, 5], [10, 20, 30, 40, 50]]\n",
    "df3 = pd.DataFrame(myList2, index = ['A', 'B'], columns = ['1st', '2nd', '3rd', '4th', '5th'])\n",
    "df3"
   ]
  },
  {
   "cell_type": "markdown",
   "metadata": {
    "id": "BETi2Ped6T9P"
   },
   "source": [
    "# Using read_csv()"
   ]
  },
  {
   "cell_type": "code",
   "execution_count": 5,
   "metadata": {
    "executionInfo": {
     "elapsed": 486,
     "status": "ok",
     "timestamp": 1696914151105,
     "user": {
      "displayName": "Naziha ALI SAOUCHA",
      "userId": "07522524245521110784"
     },
     "user_tz": -60
    },
    "id": "IQym7wF66WD6"
   },
   "outputs": [],
   "source": [
    "classData = pd.read_csv('Chap3Demo.csv')"
   ]
  },
  {
   "cell_type": "markdown",
   "metadata": {
    "id": "LgsEo5rHCiPS"
   },
   "source": [
    "# Accessing data in DataFrame"
   ]
  },
  {
   "cell_type": "code",
   "execution_count": 6,
   "metadata": {
    "colab": {
     "base_uri": "https://localhost:8080/",
     "height": 238
    },
    "executionInfo": {
     "elapsed": 404,
     "status": "ok",
     "timestamp": 1696914154964,
     "user": {
      "displayName": "Naziha ALI SAOUCHA",
      "userId": "07522524245521110784"
     },
     "user_tz": -60
    },
    "id": "Rwv0hThbClju",
    "outputId": "0623f510-fe0b-47df-912d-c678981ea6ce"
   },
   "outputs": [
    {
     "data": {
      "text/html": [
       "<div>\n",
       "<style scoped>\n",
       "    .dataframe tbody tr th:only-of-type {\n",
       "        vertical-align: middle;\n",
       "    }\n",
       "\n",
       "    .dataframe tbody tr th {\n",
       "        vertical-align: top;\n",
       "    }\n",
       "\n",
       "    .dataframe thead th {\n",
       "        text-align: right;\n",
       "    }\n",
       "</style>\n",
       "<table border=\"1\" class=\"dataframe\">\n",
       "  <thead>\n",
       "    <tr style=\"text-align: right;\">\n",
       "      <th></th>\n",
       "      <th>ModuleID</th>\n",
       "      <th>Instructor</th>\n",
       "      <th>TA</th>\n",
       "      <th>Enrolment</th>\n",
       "      <th>Rating</th>\n",
       "    </tr>\n",
       "  </thead>\n",
       "  <tbody>\n",
       "    <tr>\n",
       "      <th>0</th>\n",
       "      <td>ML</td>\n",
       "      <td>Ahmed</td>\n",
       "      <td>Yasmine</td>\n",
       "      <td>35</td>\n",
       "      <td>8</td>\n",
       "    </tr>\n",
       "    <tr>\n",
       "      <th>1</th>\n",
       "      <td>ML</td>\n",
       "      <td>Leila</td>\n",
       "      <td>Karim</td>\n",
       "      <td>38</td>\n",
       "      <td>7</td>\n",
       "    </tr>\n",
       "    <tr>\n",
       "      <th>2</th>\n",
       "      <td>ML</td>\n",
       "      <td>Mohamed</td>\n",
       "      <td>Omar</td>\n",
       "      <td>30</td>\n",
       "      <td>6</td>\n",
       "    </tr>\n",
       "    <tr>\n",
       "      <th>3</th>\n",
       "      <td>PA</td>\n",
       "      <td>Fatima</td>\n",
       "      <td>Abdelkader</td>\n",
       "      <td>40</td>\n",
       "      <td>7</td>\n",
       "    </tr>\n",
       "    <tr>\n",
       "      <th>4</th>\n",
       "      <td>PA</td>\n",
       "      <td>Amine</td>\n",
       "      <td>Yasmine</td>\n",
       "      <td>36</td>\n",
       "      <td>8</td>\n",
       "    </tr>\n",
       "    <tr>\n",
       "      <th>5</th>\n",
       "      <td>PA</td>\n",
       "      <td>Leila</td>\n",
       "      <td>Fatima</td>\n",
       "      <td>34</td>\n",
       "      <td>6</td>\n",
       "    </tr>\n",
       "  </tbody>\n",
       "</table>\n",
       "</div>"
      ],
      "text/plain": [
       "  ModuleID Instructor          TA  Enrolment  Rating\n",
       "0       ML      Ahmed     Yasmine         35       8\n",
       "1       ML      Leila       Karim         38       7\n",
       "2       ML    Mohamed        Omar         30       6\n",
       "3       PA     Fatima  Abdelkader         40       7\n",
       "4       PA      Amine     Yasmine         36       8\n",
       "5       PA      Leila      Fatima         34       6"
      ]
     },
     "execution_count": 6,
     "metadata": {},
     "output_type": "execute_result"
    }
   ],
   "source": [
    "classData.head(6)"
   ]
  },
  {
   "cell_type": "code",
   "execution_count": 7,
   "metadata": {
    "colab": {
     "base_uri": "https://localhost:8080/",
     "height": 300
    },
    "executionInfo": {
     "elapsed": 382,
     "status": "ok",
     "timestamp": 1696914158491,
     "user": {
      "displayName": "Naziha ALI SAOUCHA",
      "userId": "07522524245521110784"
     },
     "user_tz": -60
    },
    "id": "XkB2vs1bDTnC",
    "outputId": "d8b0bee5-8328-4fcc-c195-1fcc02f3acdc"
   },
   "outputs": [
    {
     "data": {
      "text/html": [
       "<div>\n",
       "<style scoped>\n",
       "    .dataframe tbody tr th:only-of-type {\n",
       "        vertical-align: middle;\n",
       "    }\n",
       "\n",
       "    .dataframe tbody tr th {\n",
       "        vertical-align: top;\n",
       "    }\n",
       "\n",
       "    .dataframe thead th {\n",
       "        text-align: right;\n",
       "    }\n",
       "</style>\n",
       "<table border=\"1\" class=\"dataframe\">\n",
       "  <thead>\n",
       "    <tr style=\"text-align: right;\">\n",
       "      <th></th>\n",
       "      <th>Enrolment</th>\n",
       "      <th>Rating</th>\n",
       "    </tr>\n",
       "  </thead>\n",
       "  <tbody>\n",
       "    <tr>\n",
       "      <th>count</th>\n",
       "      <td>11.000000</td>\n",
       "      <td>11.000000</td>\n",
       "    </tr>\n",
       "    <tr>\n",
       "      <th>mean</th>\n",
       "      <td>35.818182</td>\n",
       "      <td>7.363636</td>\n",
       "    </tr>\n",
       "    <tr>\n",
       "      <th>std</th>\n",
       "      <td>4.423080</td>\n",
       "      <td>0.924416</td>\n",
       "    </tr>\n",
       "    <tr>\n",
       "      <th>min</th>\n",
       "      <td>30.000000</td>\n",
       "      <td>6.000000</td>\n",
       "    </tr>\n",
       "    <tr>\n",
       "      <th>25%</th>\n",
       "      <td>32.500000</td>\n",
       "      <td>7.000000</td>\n",
       "    </tr>\n",
       "    <tr>\n",
       "      <th>50%</th>\n",
       "      <td>35.000000</td>\n",
       "      <td>7.000000</td>\n",
       "    </tr>\n",
       "    <tr>\n",
       "      <th>75%</th>\n",
       "      <td>39.000000</td>\n",
       "      <td>8.000000</td>\n",
       "    </tr>\n",
       "    <tr>\n",
       "      <th>max</th>\n",
       "      <td>43.000000</td>\n",
       "      <td>9.000000</td>\n",
       "    </tr>\n",
       "  </tbody>\n",
       "</table>\n",
       "</div>"
      ],
      "text/plain": [
       "       Enrolment     Rating\n",
       "count  11.000000  11.000000\n",
       "mean   35.818182   7.363636\n",
       "std     4.423080   0.924416\n",
       "min    30.000000   6.000000\n",
       "25%    32.500000   7.000000\n",
       "50%    35.000000   7.000000\n",
       "75%    39.000000   8.000000\n",
       "max    43.000000   9.000000"
      ]
     },
     "execution_count": 7,
     "metadata": {},
     "output_type": "execute_result"
    }
   ],
   "source": [
    "classData.describe()"
   ]
  },
  {
   "cell_type": "markdown",
   "metadata": {
    "id": "hGBxvZ08Dpxz"
   },
   "source": [
    "# Modifying Row and Column Labels"
   ]
  },
  {
   "cell_type": "code",
   "execution_count": 8,
   "metadata": {
    "colab": {
     "base_uri": "https://localhost:8080/",
     "height": 394
    },
    "executionInfo": {
     "elapsed": 499,
     "status": "ok",
     "timestamp": 1696914247061,
     "user": {
      "displayName": "Naziha ALI SAOUCHA",
      "userId": "07522524245521110784"
     },
     "user_tz": -60
    },
    "id": "Uw3K-35WDteO",
    "outputId": "bf410abe-106a-4e09-b4e9-8411c89c7b4e"
   },
   "outputs": [
    {
     "data": {
      "text/html": [
       "<div>\n",
       "<style scoped>\n",
       "    .dataframe tbody tr th:only-of-type {\n",
       "        vertical-align: middle;\n",
       "    }\n",
       "\n",
       "    .dataframe tbody tr th {\n",
       "        vertical-align: top;\n",
       "    }\n",
       "\n",
       "    .dataframe thead th {\n",
       "        text-align: right;\n",
       "    }\n",
       "</style>\n",
       "<table border=\"1\" class=\"dataframe\">\n",
       "  <thead>\n",
       "    <tr style=\"text-align: right;\">\n",
       "      <th></th>\n",
       "      <th>ModuleID</th>\n",
       "      <th>Instructor</th>\n",
       "      <th>Assistant</th>\n",
       "      <th>Enrolment</th>\n",
       "      <th>Rating</th>\n",
       "    </tr>\n",
       "  </thead>\n",
       "  <tbody>\n",
       "    <tr>\n",
       "      <th>Row Zero</th>\n",
       "      <td>ML</td>\n",
       "      <td>Ahmed</td>\n",
       "      <td>Yasmine</td>\n",
       "      <td>35</td>\n",
       "      <td>8</td>\n",
       "    </tr>\n",
       "    <tr>\n",
       "      <th>Row One</th>\n",
       "      <td>ML</td>\n",
       "      <td>Leila</td>\n",
       "      <td>Karim</td>\n",
       "      <td>38</td>\n",
       "      <td>7</td>\n",
       "    </tr>\n",
       "    <tr>\n",
       "      <th>2</th>\n",
       "      <td>ML</td>\n",
       "      <td>Mohamed</td>\n",
       "      <td>Omar</td>\n",
       "      <td>30</td>\n",
       "      <td>6</td>\n",
       "    </tr>\n",
       "    <tr>\n",
       "      <th>3</th>\n",
       "      <td>PA</td>\n",
       "      <td>Fatima</td>\n",
       "      <td>Abdelkader</td>\n",
       "      <td>40</td>\n",
       "      <td>7</td>\n",
       "    </tr>\n",
       "    <tr>\n",
       "      <th>4</th>\n",
       "      <td>PA</td>\n",
       "      <td>Amine</td>\n",
       "      <td>Yasmine</td>\n",
       "      <td>36</td>\n",
       "      <td>8</td>\n",
       "    </tr>\n",
       "    <tr>\n",
       "      <th>4</th>\n",
       "      <td>PA</td>\n",
       "      <td>Leila</td>\n",
       "      <td>Fatima</td>\n",
       "      <td>34</td>\n",
       "      <td>6</td>\n",
       "    </tr>\n",
       "    <tr>\n",
       "      <th>6</th>\n",
       "      <td>OC</td>\n",
       "      <td>Karim</td>\n",
       "      <td>Walid</td>\n",
       "      <td>42</td>\n",
       "      <td>7</td>\n",
       "    </tr>\n",
       "    <tr>\n",
       "      <th>7</th>\n",
       "      <td>OC</td>\n",
       "      <td>Sarah</td>\n",
       "      <td>Yasmina</td>\n",
       "      <td>43</td>\n",
       "      <td>8</td>\n",
       "    </tr>\n",
       "    <tr>\n",
       "      <th>8</th>\n",
       "      <td>OC</td>\n",
       "      <td>Nassim</td>\n",
       "      <td>Fatima</td>\n",
       "      <td>32</td>\n",
       "      <td>7</td>\n",
       "    </tr>\n",
       "    <tr>\n",
       "      <th>13</th>\n",
       "      <td>ML</td>\n",
       "      <td>Abdelkader</td>\n",
       "      <td>Leila</td>\n",
       "      <td>33</td>\n",
       "      <td>9</td>\n",
       "    </tr>\n",
       "    <tr>\n",
       "      <th>10</th>\n",
       "      <td>ML</td>\n",
       "      <td>Fatima</td>\n",
       "      <td>Mohamed</td>\n",
       "      <td>31</td>\n",
       "      <td>8</td>\n",
       "    </tr>\n",
       "  </tbody>\n",
       "</table>\n",
       "</div>"
      ],
      "text/plain": [
       "         ModuleID  Instructor   Assistant  Enrolment  Rating\n",
       "Row Zero       ML       Ahmed     Yasmine         35       8\n",
       "Row One        ML       Leila       Karim         38       7\n",
       "2              ML     Mohamed        Omar         30       6\n",
       "3              PA      Fatima  Abdelkader         40       7\n",
       "4              PA       Amine     Yasmine         36       8\n",
       "4              PA       Leila      Fatima         34       6\n",
       "6              OC       Karim       Walid         42       7\n",
       "7              OC       Sarah     Yasmina         43       8\n",
       "8              OC      Nassim      Fatima         32       7\n",
       "13             ML  Abdelkader       Leila         33       9\n",
       "10             ML      Fatima     Mohamed         31       8"
      ]
     },
     "execution_count": 8,
     "metadata": {},
     "output_type": "execute_result"
    }
   ],
   "source": [
    "classData = classData.rename(columns={'TA':'Assistant'}, index={0:'Row Zero',1:'Row One', 9:'13', 5: 4})\n",
    "classData"
   ]
  },
  {
   "cell_type": "markdown",
   "metadata": {
    "id": "YCF6fLdBqYUD"
   },
   "source": [
    "# Data Extraction from a DataFrame"
   ]
  },
  {
   "cell_type": "markdown",
   "metadata": {
    "id": "dSSAJ4l9qbdz"
   },
   "source": [
    "## Selecting Columns"
   ]
  },
  {
   "cell_type": "code",
   "execution_count": 9,
   "metadata": {
    "colab": {
     "base_uri": "https://localhost:8080/"
    },
    "executionInfo": {
     "elapsed": 10,
     "status": "ok",
     "timestamp": 1696914528737,
     "user": {
      "displayName": "Naziha ALI SAOUCHA",
      "userId": "07522524245521110784"
     },
     "user_tz": -60
    },
    "id": "NNRTNXjZqZ26",
    "outputId": "e8f395e9-9700-4912-9d4f-1eeff22a061c"
   },
   "outputs": [
    {
     "name": "stdout",
     "output_type": "stream",
     "text": [
      "Row Zero    ML\n",
      "Row One     ML\n",
      "2           ML\n",
      "3           PA\n",
      "4           PA\n",
      "4           PA\n",
      "6           OC\n",
      "7           OC\n",
      "8           OC\n",
      "13          ML\n",
      "10          ML\n",
      "Name: ModuleID, dtype: object\n",
      "<class 'pandas.core.series.Series'>\n"
     ]
    }
   ],
   "source": [
    "X1 = classData['ModuleID']\n",
    "print(X1)\n",
    "print(type(X1))"
   ]
  },
  {
   "cell_type": "code",
   "execution_count": 11,
   "metadata": {
    "colab": {
     "base_uri": "https://localhost:8080/"
    },
    "executionInfo": {
     "elapsed": 387,
     "status": "ok",
     "timestamp": 1696914561948,
     "user": {
      "displayName": "Naziha ALI SAOUCHA",
      "userId": "07522524245521110784"
     },
     "user_tz": -60
    },
    "id": "B8cgXfWKrgY6",
    "outputId": "d0437aea-8de9-499f-8c44-237dbeaad32a"
   },
   "outputs": [
    {
     "name": "stdout",
     "output_type": "stream",
     "text": [
      "<class 'pandas.core.frame.DataFrame'>\n",
      "         ModuleID\n",
      "Row Zero       ML\n",
      "Row One        ML\n",
      "2              ML\n",
      "3              PA\n",
      "4              PA\n",
      "4              PA\n",
      "6              OC\n",
      "7              OC\n",
      "8              OC\n",
      "13             ML\n",
      "10             ML\n",
      "<class 'pandas.core.frame.DataFrame'>\n",
      "         ModuleID  Instructor\n",
      "Row Zero       ML       Ahmed\n",
      "Row One        ML       Leila\n",
      "2              ML     Mohamed\n",
      "3              PA      Fatima\n",
      "4              PA       Amine\n",
      "4              PA       Leila\n",
      "6              OC       Karim\n",
      "7              OC       Sarah\n",
      "8              OC      Nassim\n",
      "13             ML  Abdelkader\n",
      "10             ML      Fatima\n"
     ]
    }
   ],
   "source": [
    "X2 = classData[['ModuleID']]\n",
    "X3 = classData[['ModuleID', 'Instructor']]\n",
    "print(type(X2))\n",
    "print((X2))\n",
    "print(type(X3))\n",
    "print((X3))"
   ]
  },
  {
   "cell_type": "markdown",
   "metadata": {
    "id": "qI2Utq58rxbj"
   },
   "source": [
    "## Selecting Rows"
   ]
  },
  {
   "cell_type": "markdown",
   "metadata": {
    "id": "Rp9I6SFJsGfT"
   },
   "source": [
    "### Using Boolean Arrays"
   ]
  },
  {
   "cell_type": "code",
   "execution_count": 12,
   "metadata": {
    "colab": {
     "base_uri": "https://localhost:8080/",
     "height": 352
    },
    "executionInfo": {
     "elapsed": 401,
     "status": "ok",
     "timestamp": 1696914612901,
     "user": {
      "displayName": "Naziha ALI SAOUCHA",
      "userId": "07522524245521110784"
     },
     "user_tz": -60
    },
    "id": "26qfZ6uUsDv6",
    "outputId": "81b21de8-e124-46b3-ea5d-7d0b85969c73"
   },
   "outputs": [
    {
     "name": "stdout",
     "output_type": "stream",
     "text": [
      "Row Zero    False\n",
      "Row One     False\n",
      "2           False\n",
      "3           False\n",
      "4           False\n",
      "4           False\n",
      "6           False\n",
      "7           False\n",
      "8           False\n",
      "13          False\n",
      "10          False\n",
      "Name: ModuleID, dtype: bool\n"
     ]
    },
    {
     "data": {
      "text/html": [
       "<div>\n",
       "<style scoped>\n",
       "    .dataframe tbody tr th:only-of-type {\n",
       "        vertical-align: middle;\n",
       "    }\n",
       "\n",
       "    .dataframe tbody tr th {\n",
       "        vertical-align: top;\n",
       "    }\n",
       "\n",
       "    .dataframe thead th {\n",
       "        text-align: right;\n",
       "    }\n",
       "</style>\n",
       "<table border=\"1\" class=\"dataframe\">\n",
       "  <thead>\n",
       "    <tr style=\"text-align: right;\">\n",
       "      <th></th>\n",
       "      <th>ModuleID</th>\n",
       "      <th>Instructor</th>\n",
       "      <th>Assistant</th>\n",
       "      <th>Enrolment</th>\n",
       "      <th>Rating</th>\n",
       "    </tr>\n",
       "  </thead>\n",
       "  <tbody>\n",
       "  </tbody>\n",
       "</table>\n",
       "</div>"
      ],
      "text/plain": [
       "Empty DataFrame\n",
       "Columns: [ModuleID, Instructor, Assistant, Enrolment, Rating]\n",
       "Index: []"
      ]
     },
     "execution_count": 12,
     "metadata": {},
     "output_type": "execute_result"
    }
   ],
   "source": [
    "arr1 = classData['ModuleID'] == 'CS101'\n",
    "print(arr1)\n",
    "classData[arr1]"
   ]
  },
  {
   "cell_type": "code",
   "execution_count": 13,
   "metadata": {
    "colab": {
     "base_uri": "https://localhost:8080/",
     "height": 81
    },
    "executionInfo": {
     "elapsed": 89,
     "status": "ok",
     "timestamp": 1696891506106,
     "user": {
      "displayName": "Naziha ALI SAOUCHA",
      "userId": "07522524245521110784"
     },
     "user_tz": -60
    },
    "id": "lvb88SdOsPly",
    "outputId": "d6dd0ea4-404f-40b9-a5de-67fb21319202"
   },
   "outputs": [
    {
     "data": {
      "text/html": [
       "<div>\n",
       "<style scoped>\n",
       "    .dataframe tbody tr th:only-of-type {\n",
       "        vertical-align: middle;\n",
       "    }\n",
       "\n",
       "    .dataframe tbody tr th {\n",
       "        vertical-align: top;\n",
       "    }\n",
       "\n",
       "    .dataframe thead th {\n",
       "        text-align: right;\n",
       "    }\n",
       "</style>\n",
       "<table border=\"1\" class=\"dataframe\">\n",
       "  <thead>\n",
       "    <tr style=\"text-align: right;\">\n",
       "      <th></th>\n",
       "      <th>ModuleID</th>\n",
       "      <th>Instructor</th>\n",
       "      <th>Assistant</th>\n",
       "      <th>Enrolment</th>\n",
       "      <th>Rating</th>\n",
       "    </tr>\n",
       "  </thead>\n",
       "  <tbody>\n",
       "  </tbody>\n",
       "</table>\n",
       "</div>"
      ],
      "text/plain": [
       "Empty DataFrame\n",
       "Columns: [ModuleID, Instructor, Assistant, Enrolment, Rating]\n",
       "Index: []"
      ]
     },
     "execution_count": 13,
     "metadata": {},
     "output_type": "execute_result"
    }
   ],
   "source": [
    "arr1 = classData['ModuleID'] == 'CS101'\n",
    "arr2 = classData['Instructor'] == 'Aaron'\n",
    "classData[arr1 & arr2]"
   ]
  },
  {
   "cell_type": "code",
   "execution_count": 14,
   "metadata": {
    "colab": {
     "base_uri": "https://localhost:8080/",
     "height": 81
    },
    "executionInfo": {
     "elapsed": 86,
     "status": "ok",
     "timestamp": 1696891506106,
     "user": {
      "displayName": "Naziha ALI SAOUCHA",
      "userId": "07522524245521110784"
     },
     "user_tz": -60
    },
    "id": "liJWD5Y1tLrq",
    "outputId": "d0f24bf7-6d6e-42a1-d3c9-29878e592b66"
   },
   "outputs": [
    {
     "data": {
      "text/html": [
       "<div>\n",
       "<style scoped>\n",
       "    .dataframe tbody tr th:only-of-type {\n",
       "        vertical-align: middle;\n",
       "    }\n",
       "\n",
       "    .dataframe tbody tr th {\n",
       "        vertical-align: top;\n",
       "    }\n",
       "\n",
       "    .dataframe thead th {\n",
       "        text-align: right;\n",
       "    }\n",
       "</style>\n",
       "<table border=\"1\" class=\"dataframe\">\n",
       "  <thead>\n",
       "    <tr style=\"text-align: right;\">\n",
       "      <th></th>\n",
       "      <th>ModuleID</th>\n",
       "      <th>Instructor</th>\n",
       "      <th>Assistant</th>\n",
       "      <th>Enrolment</th>\n",
       "      <th>Rating</th>\n",
       "    </tr>\n",
       "  </thead>\n",
       "  <tbody>\n",
       "  </tbody>\n",
       "</table>\n",
       "</div>"
      ],
      "text/plain": [
       "Empty DataFrame\n",
       "Columns: [ModuleID, Instructor, Assistant, Enrolment, Rating]\n",
       "Index: []"
      ]
     },
     "execution_count": 14,
     "metadata": {},
     "output_type": "execute_result"
    }
   ],
   "source": [
    "classData[(classData['ModuleID'] == 'CS101') & (classData['Instructor'] == 'Aaron')]"
   ]
  },
  {
   "cell_type": "markdown",
   "metadata": {
    "id": "fUyL_SGnuDmt"
   },
   "source": [
    "## iloc[] and loc[]\n"
   ]
  },
  {
   "cell_type": "code",
   "execution_count": 15,
   "metadata": {
    "colab": {
     "base_uri": "https://localhost:8080/",
     "height": 394
    },
    "executionInfo": {
     "elapsed": 402,
     "status": "ok",
     "timestamp": 1696914738494,
     "user": {
      "displayName": "Naziha ALI SAOUCHA",
      "userId": "07522524245521110784"
     },
     "user_tz": -60
    },
    "id": "AdRCbJUkPvux",
    "outputId": "9c5bf02e-7733-473a-8813-6bb21fe28cf6"
   },
   "outputs": [
    {
     "data": {
      "text/html": [
       "<div>\n",
       "<style scoped>\n",
       "    .dataframe tbody tr th:only-of-type {\n",
       "        vertical-align: middle;\n",
       "    }\n",
       "\n",
       "    .dataframe tbody tr th {\n",
       "        vertical-align: top;\n",
       "    }\n",
       "\n",
       "    .dataframe thead th {\n",
       "        text-align: right;\n",
       "    }\n",
       "</style>\n",
       "<table border=\"1\" class=\"dataframe\">\n",
       "  <thead>\n",
       "    <tr style=\"text-align: right;\">\n",
       "      <th></th>\n",
       "      <th>ModuleID</th>\n",
       "      <th>Instructor</th>\n",
       "      <th>Assistant</th>\n",
       "      <th>Enrolment</th>\n",
       "      <th>Rating</th>\n",
       "    </tr>\n",
       "  </thead>\n",
       "  <tbody>\n",
       "    <tr>\n",
       "      <th>Row Zero</th>\n",
       "      <td>ML</td>\n",
       "      <td>Ahmed</td>\n",
       "      <td>Yasmine</td>\n",
       "      <td>35</td>\n",
       "      <td>8</td>\n",
       "    </tr>\n",
       "    <tr>\n",
       "      <th>Row One</th>\n",
       "      <td>ML</td>\n",
       "      <td>Leila</td>\n",
       "      <td>Karim</td>\n",
       "      <td>38</td>\n",
       "      <td>7</td>\n",
       "    </tr>\n",
       "    <tr>\n",
       "      <th>2</th>\n",
       "      <td>ML</td>\n",
       "      <td>Mohamed</td>\n",
       "      <td>Omar</td>\n",
       "      <td>30</td>\n",
       "      <td>6</td>\n",
       "    </tr>\n",
       "    <tr>\n",
       "      <th>3</th>\n",
       "      <td>PA</td>\n",
       "      <td>Fatima</td>\n",
       "      <td>Abdelkader</td>\n",
       "      <td>40</td>\n",
       "      <td>7</td>\n",
       "    </tr>\n",
       "    <tr>\n",
       "      <th>4</th>\n",
       "      <td>PA</td>\n",
       "      <td>Amine</td>\n",
       "      <td>Yasmine</td>\n",
       "      <td>36</td>\n",
       "      <td>8</td>\n",
       "    </tr>\n",
       "    <tr>\n",
       "      <th>4</th>\n",
       "      <td>PA</td>\n",
       "      <td>Leila</td>\n",
       "      <td>Fatima</td>\n",
       "      <td>34</td>\n",
       "      <td>6</td>\n",
       "    </tr>\n",
       "    <tr>\n",
       "      <th>6</th>\n",
       "      <td>OC</td>\n",
       "      <td>Karim</td>\n",
       "      <td>Walid</td>\n",
       "      <td>42</td>\n",
       "      <td>7</td>\n",
       "    </tr>\n",
       "    <tr>\n",
       "      <th>7</th>\n",
       "      <td>OC</td>\n",
       "      <td>Sarah</td>\n",
       "      <td>Yasmina</td>\n",
       "      <td>43</td>\n",
       "      <td>8</td>\n",
       "    </tr>\n",
       "    <tr>\n",
       "      <th>8</th>\n",
       "      <td>OC</td>\n",
       "      <td>Nassim</td>\n",
       "      <td>Fatima</td>\n",
       "      <td>32</td>\n",
       "      <td>7</td>\n",
       "    </tr>\n",
       "    <tr>\n",
       "      <th>13</th>\n",
       "      <td>ML</td>\n",
       "      <td>Abdelkader</td>\n",
       "      <td>Leila</td>\n",
       "      <td>33</td>\n",
       "      <td>9</td>\n",
       "    </tr>\n",
       "    <tr>\n",
       "      <th>10</th>\n",
       "      <td>ML</td>\n",
       "      <td>Fatima</td>\n",
       "      <td>Mohamed</td>\n",
       "      <td>31</td>\n",
       "      <td>8</td>\n",
       "    </tr>\n",
       "  </tbody>\n",
       "</table>\n",
       "</div>"
      ],
      "text/plain": [
       "         ModuleID  Instructor   Assistant  Enrolment  Rating\n",
       "Row Zero       ML       Ahmed     Yasmine         35       8\n",
       "Row One        ML       Leila       Karim         38       7\n",
       "2              ML     Mohamed        Omar         30       6\n",
       "3              PA      Fatima  Abdelkader         40       7\n",
       "4              PA       Amine     Yasmine         36       8\n",
       "4              PA       Leila      Fatima         34       6\n",
       "6              OC       Karim       Walid         42       7\n",
       "7              OC       Sarah     Yasmina         43       8\n",
       "8              OC      Nassim      Fatima         32       7\n",
       "13             ML  Abdelkader       Leila         33       9\n",
       "10             ML      Fatima     Mohamed         31       8"
      ]
     },
     "execution_count": 15,
     "metadata": {},
     "output_type": "execute_result"
    }
   ],
   "source": [
    "classData"
   ]
  },
  {
   "cell_type": "code",
   "execution_count": 16,
   "metadata": {
    "colab": {
     "base_uri": "https://localhost:8080/"
    },
    "executionInfo": {
     "elapsed": 377,
     "status": "ok",
     "timestamp": 1696914782655,
     "user": {
      "displayName": "Naziha ALI SAOUCHA",
      "userId": "07522524245521110784"
     },
     "user_tz": -60
    },
    "id": "AkBla1H3ZTKe",
    "outputId": "02baa058-79db-48a1-f236-da609cc793c8"
   },
   "outputs": [
    {
     "name": "stdout",
     "output_type": "stream",
     "text": [
      "  ModuleID Instructor Assistant  Enrolment  Rating\n",
      "4       PA      Amine   Yasmine         36       8\n",
      "4       PA      Leila    Fatima         34       6\n"
     ]
    }
   ],
   "source": [
    "print(classData.loc[4])"
   ]
  },
  {
   "cell_type": "code",
   "execution_count": 17,
   "metadata": {
    "colab": {
     "base_uri": "https://localhost:8080/"
    },
    "executionInfo": {
     "elapsed": 374,
     "status": "ok",
     "timestamp": 1696915027845,
     "user": {
      "displayName": "Naziha ALI SAOUCHA",
      "userId": "07522524245521110784"
     },
     "user_tz": -60
    },
    "id": "bs-LvDX-vR_L",
    "outputId": "968f4046-f400-49fa-eac0-c3f4b9f9405c"
   },
   "outputs": [
    {
     "name": "stdout",
     "output_type": "stream",
     "text": [
      "ModuleID           PA\n",
      "Instructor      Amine\n",
      "Assistant     Yasmine\n",
      "Enrolment          36\n",
      "Rating              8\n",
      "Name: 4, dtype: object\n",
      "<class 'pandas.core.series.Series'>\n"
     ]
    }
   ],
   "source": [
    "print(classData.iloc[4])\n",
    "print(type(classData.iloc[4]))"
   ]
  },
  {
   "cell_type": "code",
   "execution_count": 18,
   "metadata": {
    "colab": {
     "base_uri": "https://localhost:8080/"
    },
    "executionInfo": {
     "elapsed": 413,
     "status": "ok",
     "timestamp": 1696914927704,
     "user": {
      "displayName": "Naziha ALI SAOUCHA",
      "userId": "07522524245521110784"
     },
     "user_tz": -60
    },
    "id": "p0qFAnRSwdED",
    "outputId": "c7e8593e-0667-43be-d62f-17e5e696e780"
   },
   "outputs": [
    {
     "name": "stdout",
     "output_type": "stream",
     "text": [
      "ModuleID           ML\n",
      "Instructor      Ahmed\n",
      "Assistant     Yasmine\n",
      "Enrolment          35\n",
      "Rating              8\n",
      "Name: Row Zero, dtype: object\n",
      "<class 'pandas.core.series.Series'>\n"
     ]
    }
   ],
   "source": [
    "print(classData.loc['Row Zero'])\n",
    "print(type(classData.loc['Row Zero']))"
   ]
  },
  {
   "cell_type": "code",
   "execution_count": 19,
   "metadata": {
    "colab": {
     "base_uri": "https://localhost:8080/"
    },
    "executionInfo": {
     "elapsed": 374,
     "status": "ok",
     "timestamp": 1696914930630,
     "user": {
      "displayName": "Naziha ALI SAOUCHA",
      "userId": "07522524245521110784"
     },
     "user_tz": -60
    },
    "id": "0kZ-QlQkwdID",
    "outputId": "5f4b4400-fc3a-4787-e771-59c70985cd6b"
   },
   "outputs": [
    {
     "name": "stdout",
     "output_type": "stream",
     "text": [
      "         ModuleID Instructor Assistant  Enrolment  Rating\n",
      "Row Zero       ML      Ahmed   Yasmine         35       8\n",
      "<class 'pandas.core.frame.DataFrame'>\n"
     ]
    }
   ],
   "source": [
    "print(classData.iloc[[0]])\n",
    "print(type(classData.iloc[[0]]))"
   ]
  },
  {
   "cell_type": "code",
   "execution_count": 20,
   "metadata": {
    "colab": {
     "base_uri": "https://localhost:8080/"
    },
    "executionInfo": {
     "elapsed": 398,
     "status": "ok",
     "timestamp": 1696914961617,
     "user": {
      "displayName": "Naziha ALI SAOUCHA",
      "userId": "07522524245521110784"
     },
     "user_tz": -60
    },
    "id": "YfFnAbijwdXD",
    "outputId": "9d8957d2-78d8-4d1e-93b8-ece0c1422960"
   },
   "outputs": [
    {
     "name": "stdout",
     "output_type": "stream",
     "text": [
      "         ModuleID Instructor Assistant  Enrolment  Rating\n",
      "Row Zero       ML      Ahmed   Yasmine         35       8\n",
      "<class 'pandas.core.frame.DataFrame'>\n"
     ]
    }
   ],
   "source": [
    "print(classData.loc[['Row Zero']])\n",
    "print(type(classData.loc[['Row Zero']]))"
   ]
  },
  {
   "cell_type": "code",
   "execution_count": 21,
   "metadata": {
    "colab": {
     "base_uri": "https://localhost:8080/"
    },
    "executionInfo": {
     "elapsed": 10,
     "status": "ok",
     "timestamp": 1696915265540,
     "user": {
      "displayName": "Naziha ALI SAOUCHA",
      "userId": "07522524245521110784"
     },
     "user_tz": -60
    },
    "id": "rXFeQDGewda9",
    "outputId": "264c79f3-2c7e-458b-e014-01783fdf192f"
   },
   "outputs": [
    {
     "name": "stdout",
     "output_type": "stream",
     "text": [
      "         ModuleID Instructor   Assistant  Enrolment  Rating\n",
      "Row Zero       ML      Ahmed     Yasmine         35       8\n",
      "3              PA     Fatima  Abdelkader         40       7\n",
      "4              PA      Amine     Yasmine         36       8\n",
      "<class 'pandas.core.frame.DataFrame'>\n"
     ]
    }
   ],
   "source": [
    "print(classData.iloc[[0, 3, 4]])\n",
    "print(type(classData.iloc[[0, 3, 4]]))"
   ]
  },
  {
   "cell_type": "code",
   "execution_count": 22,
   "metadata": {
    "colab": {
     "base_uri": "https://localhost:8080/"
    },
    "executionInfo": {
     "elapsed": 371,
     "status": "ok",
     "timestamp": 1696915313945,
     "user": {
      "displayName": "Naziha ALI SAOUCHA",
      "userId": "07522524245521110784"
     },
     "user_tz": -60
    },
    "id": "fk4Up9Iowdel",
    "outputId": "7ca47216-748c-478f-83fb-5ca77c1133f2"
   },
   "outputs": [
    {
     "name": "stdout",
     "output_type": "stream",
     "text": [
      "         ModuleID  Instructor   Assistant  Enrolment  Rating\n",
      "Row Zero       ML       Ahmed     Yasmine         35       8\n",
      "Row One        ML       Leila       Karim         38       7\n",
      "2              ML     Mohamed        Omar         30       6\n",
      "3              PA      Fatima  Abdelkader         40       7\n",
      "4              PA       Amine     Yasmine         36       8\n",
      "4              PA       Leila      Fatima         34       6\n",
      "6              OC       Karim       Walid         42       7\n",
      "7              OC       Sarah     Yasmina         43       8\n",
      "8              OC      Nassim      Fatima         32       7\n",
      "13             ML  Abdelkader       Leila         33       9\n",
      "10             ML      Fatima     Mohamed         31       8\n",
      "         ModuleID Instructor   Assistant  Enrolment  Rating\n",
      "Row Zero       ML      Ahmed     Yasmine         35       8\n",
      "3              PA     Fatima  Abdelkader         40       7\n",
      "10             ML     Fatima     Mohamed         31       8\n",
      "<class 'pandas.core.frame.DataFrame'>\n"
     ]
    }
   ],
   "source": [
    "print(classData)\n",
    "print(classData.loc[['Row Zero', 3 , 10]])\n",
    "print(type(classData.loc[['Row Zero', 3, 10]]))"
   ]
  },
  {
   "cell_type": "code",
   "execution_count": 23,
   "metadata": {
    "colab": {
     "base_uri": "https://localhost:8080/"
    },
    "executionInfo": {
     "elapsed": 354,
     "status": "ok",
     "timestamp": 1696915348700,
     "user": {
      "displayName": "Naziha ALI SAOUCHA",
      "userId": "07522524245521110784"
     },
     "user_tz": -60
    },
    "id": "XYHOjTFhwdh8",
    "outputId": "435b2a35-4138-4aeb-c5a6-5599d0f99f29"
   },
   "outputs": [
    {
     "name": "stdout",
     "output_type": "stream",
     "text": [
      "         ModuleID Instructor Assistant  Enrolment  Rating\n",
      "Row Zero       ML      Ahmed   Yasmine         35       8\n",
      "Row One        ML      Leila     Karim         38       7\n",
      "2              ML    Mohamed      Omar         30       6\n",
      "<class 'pandas.core.frame.DataFrame'>\n"
     ]
    }
   ],
   "source": [
    "print(classData.iloc[0:3])\n",
    "print(type(classData.iloc[0:3]))"
   ]
  },
  {
   "cell_type": "code",
   "execution_count": 24,
   "metadata": {
    "colab": {
     "base_uri": "https://localhost:8080/"
    },
    "executionInfo": {
     "elapsed": 359,
     "status": "ok",
     "timestamp": 1696915368268,
     "user": {
      "displayName": "Naziha ALI SAOUCHA",
      "userId": "07522524245521110784"
     },
     "user_tz": -60
    },
    "id": "C3Li8rS8wdkz",
    "outputId": "073bf936-179f-46c1-c5b2-639c90058b42"
   },
   "outputs": [
    {
     "name": "stdout",
     "output_type": "stream",
     "text": [
      "         ModuleID Instructor Assistant  Enrolment  Rating\n",
      "Row Zero       ML      Ahmed   Yasmine         35       8\n",
      "<class 'pandas.core.frame.DataFrame'>\n"
     ]
    }
   ],
   "source": [
    "print(classData.iloc[0:1])\n",
    "print(type(classData.iloc[0:1]))"
   ]
  },
  {
   "cell_type": "markdown",
   "metadata": {
    "id": "1uSWpdqgF7MG"
   },
   "source": [
    "# Updating a DataFrame"
   ]
  },
  {
   "cell_type": "code",
   "execution_count": 25,
   "metadata": {
    "colab": {
     "base_uri": "https://localhost:8080/"
    },
    "executionInfo": {
     "elapsed": 378,
     "status": "ok",
     "timestamp": 1696915440205,
     "user": {
      "displayName": "Naziha ALI SAOUCHA",
      "userId": "07522524245521110784"
     },
     "user_tz": -60
    },
    "id": "Ly7J2Bgiwdpa",
    "outputId": "615c84b8-00fc-4d29-e3e9-608e0e29827b"
   },
   "outputs": [
    {
     "name": "stdout",
     "output_type": "stream",
     "text": [
      "         ModuleID  Instructor   Assistant  Enrolment  Rating  AverageGPA\n",
      "Row Zero       ML       Ahmed     Yasmine         35       8          44\n",
      "Row One        ML       Leila       Karim         38       7          46\n",
      "2              ML     Mohamed        Omar         30       6          47\n",
      "3              PA      Fatima  Abdelkader         40       7          41\n",
      "4              PA       Amine     Yasmine         36       8          45\n",
      "4              PA       Leila      Fatima         34       6          49\n",
      "6              OC       Karim       Walid         42       7          40\n",
      "7              OC       Sarah     Yasmina         43       8          41\n",
      "8              OC      Nassim      Fatima         32       7          45\n",
      "13             ML  Abdelkader       Leila         33       9          48\n",
      "10             ML      Fatima     Mohamed         31       8          42\n",
      "         ModuleID  Instructor   Assistant  Enrolment  Rating  AverageGPA\n",
      "Row Zero       ML       Ahmed     Yasmine         35       8         4.4\n",
      "Row One        ML       Leila       Karim         38       7         4.6\n",
      "2              ML     Mohamed        Omar         30       6         4.7\n",
      "3              PA      Fatima  Abdelkader         40       7         4.1\n",
      "4              PA       Amine     Yasmine         36       8         4.5\n",
      "4              PA       Leila      Fatima         34       6         4.9\n",
      "6              OC       Karim       Walid         42       7         4.0\n",
      "7              OC       Sarah     Yasmina         43       8         4.1\n",
      "8              OC      Nassim      Fatima         32       7         4.5\n",
      "13             ML  Abdelkader       Leila         33       9         4.8\n",
      "10             ML      Fatima     Mohamed         31       8         4.2\n"
     ]
    }
   ],
   "source": [
    "#print(classData)\n",
    "classData['AverageGPA'] = [44, 46, 47, 41, 45, 49, 40, 41, 45, 48, 42]\n",
    "print(classData)\n",
    "classData['AverageGPA'] = classData['AverageGPA']*0.1\n",
    "print(classData)"
   ]
  },
  {
   "cell_type": "markdown",
   "metadata": {
    "id": "ErS0V7AiHXsh"
   },
   "source": [
    "# Useful Methods in pandas"
   ]
  },
  {
   "cell_type": "markdown",
   "metadata": {
    "id": "RD-tS2OJJ9xX"
   },
   "source": [
    "## sort_values()"
   ]
  },
  {
   "cell_type": "code",
   "execution_count": 26,
   "metadata": {
    "colab": {
     "base_uri": "https://localhost:8080/"
    },
    "executionInfo": {
     "elapsed": 382,
     "status": "ok",
     "timestamp": 1696915550135,
     "user": {
      "displayName": "Naziha ALI SAOUCHA",
      "userId": "07522524245521110784"
     },
     "user_tz": -60
    },
    "id": "WNHUdOtbHaDg",
    "outputId": "8a066ed1-930a-47cf-ae42-56b556469f4f"
   },
   "outputs": [
    {
     "name": "stdout",
     "output_type": "stream",
     "text": [
      "         ModuleID  Instructor   Assistant  Enrolment  Rating  AverageGPA\n",
      "Row Zero       ML       Ahmed     Yasmine         35       8         4.4\n",
      "Row One        ML       Leila       Karim         38       7         4.6\n",
      "2              ML     Mohamed        Omar         30       6         4.7\n",
      "3              PA      Fatima  Abdelkader         40       7         4.1\n",
      "4              PA       Amine     Yasmine         36       8         4.5\n",
      "4              PA       Leila      Fatima         34       6         4.9\n",
      "6              OC       Karim       Walid         42       7         4.0\n",
      "7              OC       Sarah     Yasmina         43       8         4.1\n",
      "8              OC      Nassim      Fatima         32       7         4.5\n",
      "13             ML  Abdelkader       Leila         33       9         4.8\n",
      "10             ML      Fatima     Mohamed         31       8         4.2\n",
      "         ModuleID  Instructor   Assistant  Enrolment  Rating  AverageGPA\n",
      "13             ML  Abdelkader       Leila         33       9         4.8\n",
      "4              PA       Amine     Yasmine         36       8         4.5\n",
      "Row Zero       ML       Ahmed     Yasmine         35       8         4.4\n",
      "10             ML      Fatima     Mohamed         31       8         4.2\n",
      "7              OC       Sarah     Yasmina         43       8         4.1\n",
      "Row One        ML       Leila       Karim         38       7         4.6\n",
      "8              OC      Nassim      Fatima         32       7         4.5\n",
      "3              PA      Fatima  Abdelkader         40       7         4.1\n",
      "6              OC       Karim       Walid         42       7         4.0\n",
      "4              PA       Leila      Fatima         34       6         4.9\n",
      "2              ML     Mohamed        Omar         30       6         4.7\n"
     ]
    }
   ],
   "source": [
    "print(classData)\n",
    "sorted = classData.sort_values(['Rating', 'AverageGPA'], ascending=False)\n",
    "print(sorted)"
   ]
  },
  {
   "cell_type": "markdown",
   "metadata": {
    "id": "w0FmyqYWJ6PL"
   },
   "source": [
    "## isnull()"
   ]
  },
  {
   "cell_type": "markdown",
   "metadata": {
    "id": "Kk0PyYd2KVIs"
   },
   "source": [
    "* In the realm of pandas, missing values encompass both the None keyword (without quotes) and the NumPy NaN value (including nan and NAN variants). \n",
    "* Conversely, an empty string (' '), the string 'None', and the numeric zero are not categorized as missing values."
   ]
  },
  {
   "cell_type": "code",
   "execution_count": 27,
   "metadata": {
    "colab": {
     "base_uri": "https://localhost:8080/"
    },
    "executionInfo": {
     "elapsed": 384,
     "status": "ok",
     "timestamp": 1696915779031,
     "user": {
      "displayName": "Naziha ALI SAOUCHA",
      "userId": "07522524245521110784"
     },
     "user_tz": -60
    },
    "id": "2AY3ZNxcIxQY",
    "outputId": "5232ff4b-90f0-412d-e83c-ee36bd05bdf5"
   },
   "outputs": [
    {
     "name": "stdout",
     "output_type": "stream",
     "text": [
      "       A\n",
      "0   True\n",
      "1   True\n",
      "2  False\n",
      "3  False\n",
      "A    2\n",
      "dtype: int64\n",
      "ModuleID      0\n",
      "Instructor    0\n",
      "Assistant     0\n",
      "Enrolment     0\n",
      "Rating        0\n",
      "AverageGPA    0\n",
      "dtype: int64\n"
     ]
    }
   ],
   "source": [
    "import numpy as np\n",
    "myData = pd.DataFrame([[None], [np.NaN], [''], ['Apple']], columns = ['A'])\n",
    "print(myData.isnull())\n",
    "print(myData.isnull().sum())\n",
    "print(classData.isnull().sum())"
   ]
  },
  {
   "cell_type": "markdown",
   "metadata": {
    "id": "4Lxwek0nMGPP"
   },
   "source": [
    "## dropna()"
   ]
  },
  {
   "cell_type": "code",
   "execution_count": 28,
   "metadata": {
    "colab": {
     "base_uri": "https://localhost:8080/"
    },
    "executionInfo": {
     "elapsed": 368,
     "status": "ok",
     "timestamp": 1696915903369,
     "user": {
      "displayName": "Naziha ALI SAOUCHA",
      "userId": "07522524245521110784"
     },
     "user_tz": -60
    },
    "id": "g_MtX7B_MoIk",
    "outputId": "0a91c321-2da6-4fa4-e410-a2d89386917d"
   },
   "outputs": [
    {
     "name": "stdout",
     "output_type": "stream",
     "text": [
      "         ModuleID  Instructor   Assistant  Enrolment  Rating  AverageGPA\n",
      "Row Zero       ML       Ahmed     Yasmine         35       8         4.4\n",
      "Row One        ML       Leila       Karim         38       7         4.6\n",
      "2              ML     Mohamed        Omar         30       6         4.7\n",
      "3              PA      Fatima  Abdelkader         40       7         4.1\n",
      "4              PA       Amine     Yasmine         36       8         4.5\n",
      "4              PA       Leila      Fatima         34       6         4.9\n",
      "6              OC       Karim       Walid         42       7         4.0\n",
      "7              OC       Sarah     Yasmina         43       8         4.1\n",
      "8              OC      Nassim      Fatima         32       7         4.5\n",
      "13             ML  Abdelkader       Leila         33       9         4.8\n",
      "10             ML      Fatima     Mohamed         31       8         4.2\n",
      "         ModuleID  Instructor   Assistant  Enrolment  Rating  AverageGPA\n",
      "Row Zero       ML       Ahmed     Yasmine         35       8         4.4\n",
      "Row One        ML       Leila       Karim         38       7         4.6\n",
      "2              ML     Mohamed        Omar         30       6         4.7\n",
      "3              PA      Fatima  Abdelkader         40       7         4.1\n",
      "4              PA       Amine     Yasmine         36       8         4.5\n",
      "4              PA       Leila      Fatima         34       6         4.9\n",
      "6              OC       Karim       Walid         42       7         4.0\n",
      "7              OC       Sarah     Yasmina         43       8         4.1\n",
      "8              OC      Nassim      Fatima         32       7         4.5\n",
      "13             ML  Abdelkader       Leila         33       9         4.8\n",
      "10             ML      Fatima     Mohamed         31       8         4.2\n",
      "         ModuleID  Instructor   Assistant  Enrolment  Rating  AverageGPA\n",
      "Row Zero       ML       Ahmed     Yasmine         35       8         4.4\n",
      "Row One        ML       Leila       Karim         38       7         4.6\n",
      "2              ML     Mohamed        Omar         30       6         4.7\n",
      "3              PA      Fatima  Abdelkader         40       7         4.1\n",
      "4              PA       Amine     Yasmine         36       8         4.5\n",
      "4              PA       Leila      Fatima         34       6         4.9\n",
      "6              OC       Karim       Walid         42       7         4.0\n",
      "7              OC       Sarah     Yasmina         43       8         4.1\n",
      "8              OC      Nassim      Fatima         32       7         4.5\n",
      "13             ML  Abdelkader       Leila         33       9         4.8\n",
      "10             ML      Fatima     Mohamed         31       8         4.2\n"
     ]
    }
   ],
   "source": [
    "classData_rows_deleted = classData.dropna()\n",
    "classData_columns_deleted  = classData.dropna(axis=1)\n",
    "print(classData)\n",
    "print(classData_rows_deleted)\n",
    "print(classData_columns_deleted)"
   ]
  },
  {
   "cell_type": "markdown",
   "metadata": {
    "id": "gRrsgPO1NMtM"
   },
   "source": [
    "## to_numpy()"
   ]
  },
  {
   "cell_type": "code",
   "execution_count": 34,
   "metadata": {
    "colab": {
     "base_uri": "https://localhost:8080/"
    },
    "executionInfo": {
     "elapsed": 431,
     "status": "ok",
     "timestamp": 1696916095624,
     "user": {
      "displayName": "Naziha ALI SAOUCHA",
      "userId": "07522524245521110784"
     },
     "user_tz": -60
    },
    "id": "McesrTyeNLxG",
    "outputId": "a3d95110-fed2-4ab0-a3f2-4377285d31f7"
   },
   "outputs": [
    {
     "name": "stdout",
     "output_type": "stream",
     "text": [
      "<class 'pandas.core.frame.DataFrame'>\n",
      "   A  B\n",
      "0  1  2\n",
      "1  3  4\n",
      "<class 'numpy.ndarray'>\n",
      "[[1 2]\n",
      " [3 4]]\n"
     ]
    }
   ],
   "source": [
    "myData2 = pd.DataFrame([[1, 2], [3, 4]], columns = ['A', 'B'])\n",
    "myArr = myData2.to_numpy()\n",
    "print(type(myData2))\n",
    "print(myData2)\n",
    "print(type(myArr))\n",
    "print(myArr)"
   ]
  },
  {
   "cell_type": "markdown",
   "metadata": {
    "id": "7T57XNlkN563"
   },
   "source": [
    "## corr()"
   ]
  },
  {
   "cell_type": "code",
   "execution_count": 29,
   "metadata": {
    "colab": {
     "base_uri": "https://localhost:8080/",
     "height": 230
    },
    "executionInfo": {
     "elapsed": 416,
     "status": "ok",
     "timestamp": 1696916199591,
     "user": {
      "displayName": "Naziha ALI SAOUCHA",
      "userId": "07522524245521110784"
     },
     "user_tz": -60
    },
    "id": "SFBH06YfN8sW",
    "outputId": "8f078855-ca1b-43f2-d819-ff61e61d1410"
   },
   "outputs": [
    {
     "name": "stdout",
     "output_type": "stream",
     "text": [
      "    A  B   C\n",
      "0   1  1   2\n",
      "1   4  2  12\n",
      "2   7  3   1\n",
      "3  10  4   5\n"
     ]
    },
    {
     "data": {
      "text/html": [
       "<div>\n",
       "<style scoped>\n",
       "    .dataframe tbody tr th:only-of-type {\n",
       "        vertical-align: middle;\n",
       "    }\n",
       "\n",
       "    .dataframe tbody tr th {\n",
       "        vertical-align: top;\n",
       "    }\n",
       "\n",
       "    .dataframe thead th {\n",
       "        text-align: right;\n",
       "    }\n",
       "</style>\n",
       "<table border=\"1\" class=\"dataframe\">\n",
       "  <thead>\n",
       "    <tr style=\"text-align: right;\">\n",
       "      <th></th>\n",
       "      <th>A</th>\n",
       "      <th>B</th>\n",
       "      <th>C</th>\n",
       "    </tr>\n",
       "  </thead>\n",
       "  <tbody>\n",
       "    <tr>\n",
       "      <th>A</th>\n",
       "      <td>1.000000</td>\n",
       "      <td>1.000000</td>\n",
       "      <td>-0.051988</td>\n",
       "    </tr>\n",
       "    <tr>\n",
       "      <th>B</th>\n",
       "      <td>1.000000</td>\n",
       "      <td>1.000000</td>\n",
       "      <td>-0.051988</td>\n",
       "    </tr>\n",
       "    <tr>\n",
       "      <th>C</th>\n",
       "      <td>-0.051988</td>\n",
       "      <td>-0.051988</td>\n",
       "      <td>1.000000</td>\n",
       "    </tr>\n",
       "  </tbody>\n",
       "</table>\n",
       "</div>"
      ],
      "text/plain": [
       "          A         B         C\n",
       "A  1.000000  1.000000 -0.051988\n",
       "B  1.000000  1.000000 -0.051988\n",
       "C -0.051988 -0.051988  1.000000"
      ]
     },
     "execution_count": 29,
     "metadata": {},
     "output_type": "execute_result"
    }
   ],
   "source": [
    "myData3 = pd.DataFrame({'A':[1, 4, 7, 10], 'B':[1, 2, 3, 4], 'C':[2, 12, 1, 5]})\n",
    "print(myData3)\n",
    "myData3.corr()"
   ]
  },
  {
   "cell_type": "code",
   "execution_count": null,
   "metadata": {},
   "outputs": [],
   "source": []
  }
 ],
 "metadata": {
  "colab": {
   "authorship_tag": "ABX9TyONjjtTnRAfGxdlV76XMzEp",
   "provenance": []
  },
  "kernelspec": {
   "display_name": "Python 3",
   "language": "python",
   "name": "python3"
  },
  "language_info": {
   "codemirror_mode": {
    "name": "ipython",
    "version": 3
   },
   "file_extension": ".py",
   "mimetype": "text/x-python",
   "name": "python",
   "nbconvert_exporter": "python",
   "pygments_lexer": "ipython3",
   "version": "3.8.8"
  }
 },
 "nbformat": 4,
 "nbformat_minor": 1
}
