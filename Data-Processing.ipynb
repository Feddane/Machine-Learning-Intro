{
 "cells": [
  {
   "cell_type": "markdown",
   "metadata": {},
   "source": [
    "Sickit Learn Library"
   ]
  },
  {
   "cell_type": "code",
   "execution_count": 3,
   "metadata": {},
   "outputs": [
    {
     "name": "stdout",
     "output_type": "stream",
     "text": [
      "[ 2. 30.]\n",
      "[  0.5 250. ]\n",
      "   A   B\n",
      "0  1  10\n",
      "1  2  20\n",
      "2  3  40\n",
      "3  2  50\n"
     ]
    }
   ],
   "source": [
    "# Importation de la bibliothèque pandas avec l'alias 'pd'\n",
    "import pandas as pd\n",
    "# Importation de la classe StandardScaler depuis le module preprocessing de scikit-learn\n",
    "from sklearn.preprocessing import StandardScaler\n",
    "\n",
    "# Création d'un DataFrame X avec deux colonnes 'A' et 'B' contenant des données numériques\n",
    "X = pd.DataFrame({'A': [1, 2, 3, 2], 'B': [10, 20, 40, 50]})\n",
    "\n",
    "# Initialisation d'un objet StandardScaler\n",
    "scaler = StandardScaler()\n",
    "\n",
    "# Ajustement du scaler sur les données du DataFrame X avec la méthode fit()\n",
    "scaler.fit(X)\n",
    "\n",
    "# Affichage de la moyenne (mean_) des colonnes après la transformation\n",
    "print(scaler.mean_)\n",
    "\n",
    "# Affichage de la variance (var_) des colonnes après la transformation\n",
    "print(scaler.var_)\n",
    "\n",
    "print(X)\n"
   ]
  },
  {
   "cell_type": "code",
   "execution_count": 2,
   "metadata": {},
   "outputs": [
    {
     "name": "stdout",
     "output_type": "stream",
     "text": [
      "[[-1.41421356 -1.26491106]\n",
      " [ 0.         -0.63245553]\n",
      " [ 1.41421356  0.63245553]\n",
      " [ 0.          1.26491106]]\n"
     ]
    }
   ],
   "source": [
    "# Transformation des données avec la méthode transform() du scaler\n",
    "X_scaled = scaler.transform(X)\n",
    "\n",
    "# Affichage des données standardisées\n",
    "print(X_scaled)"
   ]
  },
  {
   "cell_type": "code",
   "execution_count": 4,
   "metadata": {},
   "outputs": [
    {
     "name": "stdout",
     "output_type": "stream",
     "text": [
      "Moyenne de la première colonne standardisée : 0.0\n",
      "Moyenne de la deuxième colonne standardisée : 5.551115123125783e-17\n",
      "Variance de la première colonne standardisée : 0.9999999999999998\n",
      "Variance de la deuxième colonne standardisée : 1.0\n"
     ]
    }
   ],
   "source": [
    "# Calcul de la moyenne de la première colonne standardisée dans X_scaled\n",
    "print(\"Moyenne de la première colonne standardisée :\", X_scaled[:, 0].mean())\n",
    "\n",
    "# Calcul de la moyenne de la deuxième colonne standardisée dans X_scaled\n",
    "print(\"Moyenne de la deuxième colonne standardisée :\", X_scaled[:, 1].mean())\n",
    "\n",
    "# Calcul de la variance de la première colonne standardisée dans X_scaled\n",
    "print(\"Variance de la première colonne standardisée :\", X_scaled[:, 0].var())\n",
    "\n",
    "# Calcul de la variance de la deuxième colonne standardisée dans X_scaled\n",
    "print(\"Variance de la deuxième colonne standardisée :\", X_scaled[:, 1].var())"
   ]
  }
 ],
 "metadata": {
  "kernelspec": {
   "display_name": "Python 3",
   "language": "python",
   "name": "python3"
  },
  "language_info": {
   "codemirror_mode": {
    "name": "ipython",
    "version": 3
   },
   "file_extension": ".py",
   "mimetype": "text/x-python",
   "name": "python",
   "nbconvert_exporter": "python",
   "pygments_lexer": "ipython3",
   "version": "3.9.13"
  }
 },
 "nbformat": 4,
 "nbformat_minor": 2
}
