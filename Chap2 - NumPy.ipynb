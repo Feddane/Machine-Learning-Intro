{
 "cells": [
  {
   "cell_type": "markdown",
   "metadata": {
    "id": "24k4iKOZbFuU"
   },
   "source": [
    "# Chapter 2 - NumPy\n",
    "Prepared by Dr. N. Ali Saoucha\n",
    "Associate Professor A\n",
    "University of Algiers (nalisaoucha@gmail.com)"
   ]
  },
  {
   "cell_type": "code",
   "execution_count": 1,
   "metadata": {
    "id": "oaoJR_T63ETe"
   },
   "outputs": [],
   "source": [
    "import numpy as np"
   ]
  },
  {
   "cell_type": "markdown",
   "metadata": {
    "id": "Xhf127EF2B7c"
   },
   "source": [
    "# NumPy Array Creation"
   ]
  },
  {
   "cell_type": "code",
   "execution_count": 2,
   "metadata": {
    "colab": {
     "base_uri": "https://localhost:8080/"
    },
    "executionInfo": {
     "elapsed": 10,
     "status": "ok",
     "timestamp": 1692701359076,
     "user": {
      "displayName": "Naziha ALI SAOUCHA",
      "userId": "07522524245521110784"
     },
     "user_tz": -60
    },
    "id": "6FugwbnN2NLB",
    "outputId": "addc4d2f-d732-4ffc-832d-82a605e1677a"
   },
   "outputs": [
    {
     "name": "stdout",
     "output_type": "stream",
     "text": [
      "<class 'numpy.ndarray'> <class 'numpy.ndarray'> <class 'numpy.ndarray'>\n"
     ]
    }
   ],
   "source": [
    "list1 = [1, 2, 3, 4]\n",
    "list2 = [[1, 2, 3, 4]]\n",
    "list3 = [[1, 2, 3, 4], [10, 20, 30, 40], [100, 200, 300, 400]]\n",
    "arr1 = np.array(list1)\n",
    "arr2 = np.array(list2)\n",
    "arr3 = np.array(list3)\n",
    "print(type(arr1), type(arr2), type(arr3))"
   ]
  },
  {
   "cell_type": "code",
   "execution_count": 3,
   "metadata": {
    "colab": {
     "base_uri": "https://localhost:8080/"
    },
    "executionInfo": {
     "elapsed": 1503,
     "status": "ok",
     "timestamp": 1692701430727,
     "user": {
      "displayName": "Naziha ALI SAOUCHA",
      "userId": "07522524245521110784"
     },
     "user_tz": -60
    },
    "id": "JcslszHe21HQ",
    "outputId": "cd029888-e5f0-409d-d0b9-3ffd6698dba5"
   },
   "outputs": [
    {
     "name": "stdout",
     "output_type": "stream",
     "text": [
      "(4,)\n",
      "(1, 4)\n",
      "(3, 4)\n"
     ]
    }
   ],
   "source": [
    "print(arr1.shape)\n",
    "print(arr2.shape)\n",
    "print(arr3.shape)"
   ]
  },
  {
   "cell_type": "code",
   "execution_count": 4,
   "metadata": {
    "colab": {
     "base_uri": "https://localhost:8080/"
    },
    "executionInfo": {
     "elapsed": 13,
     "status": "ok",
     "timestamp": 1692701823307,
     "user": {
      "displayName": "Naziha ALI SAOUCHA",
      "userId": "07522524245521110784"
     },
     "user_tz": -60
    },
    "id": "Zri-SLiH40n6",
    "outputId": "d10ba916-928b-47e6-d2a2-6b4c0c01c9bf"
   },
   "outputs": [
    {
     "name": "stdout",
     "output_type": "stream",
     "text": [
      "[ 0.   2.5  5.   7.5 10. ]\n"
     ]
    }
   ],
   "source": [
    "arr4 = np.linspace(0, 10, 5)\n",
    "print(arr4)"
   ]
  },
  {
   "cell_type": "markdown",
   "metadata": {
    "id": "9GMYvxvJ5fyo"
   },
   "source": [
    "# Accessing Array Elements in NumPy"
   ]
  },
  {
   "cell_type": "code",
   "execution_count": 5,
   "metadata": {
    "colab": {
     "base_uri": "https://localhost:8080/"
    },
    "executionInfo": {
     "elapsed": 14,
     "status": "ok",
     "timestamp": 1692702051010,
     "user": {
      "displayName": "Naziha ALI SAOUCHA",
      "userId": "07522524245521110784"
     },
     "user_tz": -60
    },
    "id": "KJ41a-d55ATn",
    "outputId": "3d745ae8-87c6-49a8-acff-cf44239671c5"
   },
   "outputs": [
    {
     "name": "stdout",
     "output_type": "stream",
     "text": [
      "3\n",
      "5\n"
     ]
    }
   ],
   "source": [
    "arr1 = np.array([1, 2, 3, 4, 5])\n",
    "print(arr1[2])\n",
    "print(arr1[-1])"
   ]
  },
  {
   "cell_type": "code",
   "execution_count": 6,
   "metadata": {
    "colab": {
     "base_uri": "https://localhost:8080/"
    },
    "executionInfo": {
     "elapsed": 19,
     "status": "ok",
     "timestamp": 1692702125642,
     "user": {
      "displayName": "Naziha ALI SAOUCHA",
      "userId": "07522524245521110784"
     },
     "user_tz": -60
    },
    "id": "pm74bv5w54Nj",
    "outputId": "6204e623-bd8a-4d58-a8d7-f703d157291b"
   },
   "outputs": [
    {
     "name": "stdout",
     "output_type": "stream",
     "text": [
      "['a' 'b' 'c']\n",
      "b\n",
      "b\n"
     ]
    }
   ],
   "source": [
    "arr2 = np.array([['a', 'b', 'c'], ['d', 'e', 'f']])\n",
    "print(arr2[0])\n",
    "print(arr2[0][1])\n",
    "print(arr2[0,1])"
   ]
  },
  {
   "cell_type": "code",
   "execution_count": 7,
   "metadata": {
    "colab": {
     "base_uri": "https://localhost:8080/"
    },
    "executionInfo": {
     "elapsed": 9,
     "status": "ok",
     "timestamp": 1692704670454,
     "user": {
      "displayName": "Naziha ALI SAOUCHA",
      "userId": "07522524245521110784"
     },
     "user_tz": -60
    },
    "id": "05TCw4j9DMeU",
    "outputId": "64293f7e-4521-442e-ca88-4669a7fb58b3"
   },
   "outputs": [
    {
     "name": "stdout",
     "output_type": "stream",
     "text": [
      "['b' 'c' 'd' 'e' 'f']\n",
      "['b' 'd' 'f']\n",
      "[[ 3  4]\n",
      " [30 40]]\n"
     ]
    }
   ],
   "source": [
    "arr3 = np.array(['a', 'b', 'c', 'd', 'e', 'f', 'g', 'h', 'i', 'j'])\n",
    "print(arr3[1:6])\n",
    "print(arr3[1:6:2])\n",
    "arr4 = np.array([[1, 2, 3, 4, 5], [10, 20, 30, 40, 50], [100, 200, 300, 400, 500]])\n",
    "print(arr4[0:2, 2:4])\n",
    "\n"
   ]
  },
  {
   "cell_type": "markdown",
   "metadata": {
    "id": "dGcuhcJDS0T_"
   },
   "source": [
    "# ndarray Methods"
   ]
  },
  {
   "cell_type": "code",
   "execution_count": null,
   "metadata": {
    "colab": {
     "base_uri": "https://localhost:8080/"
    },
    "executionInfo": {
     "elapsed": 356,
     "status": "ok",
     "timestamp": 1692709069736,
     "user": {
      "displayName": "Naziha ALI SAOUCHA",
      "userId": "07522524245521110784"
     },
     "user_tz": -60
    },
    "id": "e1-AsGhH6E4x",
    "outputId": "683e992d-bd0f-4a0b-f4db-c1837d1a8f86"
   },
   "outputs": [
    {
     "name": "stdout",
     "output_type": "stream",
     "text": [
      "36\n",
      "[ 6  8 10 12]\n",
      "[10 26]\n"
     ]
    }
   ],
   "source": [
    "arr1 = np.array([[1, 2, 3, 4], [5, 6, 7, 8]])\n",
    "print(arr1.sum())\n",
    "print(arr1.sum(axis=0))\n",
    "print(arr1.sum(axis=1))"
   ]
  },
  {
   "cell_type": "code",
   "execution_count": 9,
   "metadata": {
    "colab": {
     "base_uri": "https://localhost:8080/"
    },
    "executionInfo": {
     "elapsed": 351,
     "status": "ok",
     "timestamp": 1692709253865,
     "user": {
      "displayName": "Naziha ALI SAOUCHA",
      "userId": "07522524245521110784"
     },
     "user_tz": -60
    },
    "id": "JlMIza62U7cr",
    "outputId": "4c6756fc-b2c2-4f48-81ff-18f3ae1534fd"
   },
   "outputs": [
    {
     "name": "stdout",
     "output_type": "stream",
     "text": [
      "[1 2 3 4 5 6]\n",
      "[[1 2]\n",
      " [3 4]\n",
      " [5 6]]\n"
     ]
    }
   ],
   "source": [
    "arr2 = np.array([1, 2, 3, 4, 5, 6])\n",
    "reshaped_array = arr2.reshape((3, 2))\n",
    "print(arr2)\n",
    "print(reshaped_array)"
   ]
  },
  {
   "cell_type": "code",
   "execution_count": null,
   "metadata": {
    "colab": {
     "base_uri": "https://localhost:8080/"
    },
    "executionInfo": {
     "elapsed": 267,
     "status": "ok",
     "timestamp": 1692709596946,
     "user": {
      "displayName": "Naziha ALI SAOUCHA",
      "userId": "07522524245521110784"
     },
     "user_tz": -60
    },
    "id": "tLSIJGXxWZom",
    "outputId": "84cb42f6-385b-4bb7-8e5f-f878f57b906e"
   },
   "outputs": [
    {
     "name": "stdout",
     "output_type": "stream",
     "text": [
      "[1 2 3 4 5]\n",
      "[[1 2 3 4 5]]\n"
     ]
    }
   ],
   "source": [
    "arr3 = np.array([1, 2, 3, 4, 5])\n",
    "reshaped_array_2 = arr3.reshape((1, -1))\n",
    "print(arr3)\n",
    "print(reshaped_array_2)"
   ]
  },
  {
   "cell_type": "markdown",
   "metadata": {
    "id": "YqBj4JyRW7ko"
   },
   "source": [
    "# NumPy Functions"
   ]
  },
  {
   "cell_type": "markdown",
   "metadata": {
    "id": "8xicb5N3XH8E"
   },
   "source": [
    "## concatenate()"
   ]
  },
  {
   "cell_type": "code",
   "execution_count": null,
   "metadata": {
    "colab": {
     "base_uri": "https://localhost:8080/"
    },
    "executionInfo": {
     "elapsed": 266,
     "status": "ok",
     "timestamp": 1692709841948,
     "user": {
      "displayName": "Naziha ALI SAOUCHA",
      "userId": "07522524245521110784"
     },
     "user_tz": -60
    },
    "id": "U-PABTyLW_KE",
    "outputId": "d12853dd-5dc4-482e-e285-025ee5e09b46"
   },
   "outputs": [
    {
     "name": "stdout",
     "output_type": "stream",
     "text": [
      "[[1 2]\n",
      " [3 4]\n",
      " [5 6]\n",
      " [7 8]]\n"
     ]
    }
   ],
   "source": [
    "arr1 = np.array([[1, 2], [3, 4], [5, 6]])\n",
    "arr2 = np.array([[7, 8]])\n",
    "combined_array = np.concatenate((arr1, arr2))\n",
    "print(combined_array)"
   ]
  },
  {
   "cell_type": "code",
   "execution_count": null,
   "metadata": {
    "colab": {
     "base_uri": "https://localhost:8080/"
    },
    "executionInfo": {
     "elapsed": 292,
     "status": "ok",
     "timestamp": 1692709947884,
     "user": {
      "displayName": "Naziha ALI SAOUCHA",
      "userId": "07522524245521110784"
     },
     "user_tz": -60
    },
    "id": "pbbQc3RTXmka",
    "outputId": "aa6cd6dc-4d4f-490a-d646-36596dceebea"
   },
   "outputs": [
    {
     "name": "stdout",
     "output_type": "stream",
     "text": [
      "[[ 1  2  9]\n",
      " [ 3  4 10]\n",
      " [ 5  6 11]\n",
      " [ 7  8 12]]\n"
     ]
    }
   ],
   "source": [
    "arr3 = np.array([[9], [10], [11], [12]])\n",
    "combined_array = np.concatenate((combined_array, arr3), axis=1)\n",
    "print(combined_array)"
   ]
  },
  {
   "cell_type": "markdown",
   "metadata": {
    "id": "8iy_OThiYLWl"
   },
   "source": [
    "## Wrapper Functions"
   ]
  },
  {
   "cell_type": "code",
   "execution_count": null,
   "metadata": {
    "colab": {
     "base_uri": "https://localhost:8080/"
    },
    "executionInfo": {
     "elapsed": 334,
     "status": "ok",
     "timestamp": 1692710477910,
     "user": {
      "displayName": "Naziha ALI SAOUCHA",
      "userId": "07522524245521110784"
     },
     "user_tz": -60
    },
    "id": "xRGXq9mTYOSU",
    "outputId": "3fe6e313-1ddb-4e9f-c678-bbe10c439754"
   },
   "outputs": [
    {
     "name": "stdout",
     "output_type": "stream",
     "text": [
      "[[1 2 3]\n",
      " [4 5 6]]\n",
      "[[1 2 3]\n",
      " [4 5 6]]\n"
     ]
    }
   ],
   "source": [
    "arr4 = np.array([1, 2, 3, 4, 5, 6])\n",
    "reshaped1 = arr4.reshape((2,-1))\n",
    "print(reshaped1)\n",
    "reshaped2 = np.reshape(arr4, (2, -1))\n",
    "print(reshaped2)\n"
   ]
  },
  {
   "cell_type": "code",
   "execution_count": null,
   "metadata": {
    "id": "7g_jYIirZVFV"
   },
   "outputs": [],
   "source": []
  }
 ],
 "metadata": {
  "colab": {
   "authorship_tag": "ABX9TyPHFSMwCL35M6iZ9RJgh/Mw",
   "provenance": []
  },
  "kernelspec": {
   "display_name": "Python 3",
   "language": "python",
   "name": "python3"
  },
  "language_info": {
   "codemirror_mode": {
    "name": "ipython",
    "version": 3
   },
   "file_extension": ".py",
   "mimetype": "text/x-python",
   "name": "python",
   "nbconvert_exporter": "python",
   "pygments_lexer": "ipython3",
   "version": "3.8.8"
  }
 },
 "nbformat": 4,
 "nbformat_minor": 1
}
