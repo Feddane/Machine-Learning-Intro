{
 "cells": [
  {
   "cell_type": "markdown",
   "metadata": {},
   "source": [
    "SVM : The Kernel Trick"
   ]
  },
  {
   "cell_type": "code",
   "execution_count": 9,
   "metadata": {},
   "outputs": [],
   "source": [
    "import pandas as pd\n",
    "\n",
    "df = pd.read_csv('diabetes.csv')\n",
    "\n",
    "columns_to_drop = ['Age', 'DiabetesPedigreeFunction', 'Insulin', 'SkinThickness', 'BloodPressure', 'Pregnancies']\n",
    "df = df.drop(columns=columns_to_drop)\n",
    "\n",
    "df.head()\n",
    "\n",
    "\n",
    "#split the dataset\n",
    "X = df.iloc[:, :-1].to_numpy() #sélectionne toutes les lignes (:), mais seulement les colonnes jusqu'à l'avant-dernière colonne ([:-1]) NON,qui est généralement la colonne de la variable cible (la variable que tu cherches à prédire). \n",
    "Y = df.iloc[:,-1].to_numpy() #Cette ligne extrait la variable cible (target) de ton DataFrame df. Elle sélectionne toutes les lignes (:), mais seulement la dernière colonne (-1)\n",
    "\n",
    "from sklearn.model_selection import train_test_split\n",
    "\n",
    "X_train, X_test, y_train, y_test = train_test_split(X, Y, test_size = 0.2, random_state = 0)"
   ]
  },
  {
   "cell_type": "code",
   "execution_count": 7,
   "metadata": {},
   "outputs": [
    {
     "name": "stdout",
     "output_type": "stream",
     "text": [
      "[0 1]\n"
     ]
    }
   ],
   "source": [
    "# Importation des bibliothèques nécessaires\n",
    "from sklearn.preprocessing import StandardScaler  # Pour normaliser les données\n",
    "from sklearn.svm import SVC  # Pour le modèle SVM\n",
    "from sklearn.metrics import accuracy_score  # Pour évaluer la performance du modèle\n",
    "\n",
    "# Création d'une instance de StandardScaler pour normaliser les données\n",
    "scaler = StandardScaler()\n",
    "\n",
    "# Création d'une instance de SVC avec un noyau RBF et une initialisation aléatoire fixe\n",
    "clf_svc = SVC(kernel='rbf', random_state=0)\n",
    "\n",
    "# Normalisation des données d'entraînement\n",
    "scaler.fit(X_train)\n",
    "X_train_scaled = scaler.transform(X_train)\n",
    "\n",
    "# Entraînement du modèle SVM sur les données normalisées\n",
    "clf_svc.fit(X_train_scaled, y_train)\n",
    "\n",
    "# Prédictions sur de nouvelles instances après normalisation\n",
    "predictions = clf_svc.predict(scaler.transform([[90, 20], [200, 30]]))\n",
    "\n",
    "# Affichage des prédictions\n",
    "print(predictions)"
   ]
  },
  {
   "cell_type": "code",
   "execution_count": 8,
   "metadata": {},
   "outputs": [
    {
     "name": "stdout",
     "output_type": "stream",
     "text": [
      "0.755700325732899\n"
     ]
    }
   ],
   "source": [
    "# Prédictions du modèle SVM sur les données d'entraînement normalisées\n",
    "y_pred = clf_svc.predict(X_train_scaled)\n",
    "\n",
    "# Calcul de la précision en comparant les prédictions avec les étiquettes d'entraînement\n",
    "accuracy = accuracy_score(y_train, y_pred)\n",
    "\n",
    "# Affichage de la précision\n",
    "print(accuracy)\n"
   ]
  },
  {
   "cell_type": "code",
   "execution_count": 12,
   "metadata": {},
   "outputs": [
    {
     "name": "stdout",
     "output_type": "stream",
     "text": [
      "0.7987012987012987\n"
     ]
    }
   ],
   "source": [
    "# Normalisation des données de test à l'aide du même scaler utilisé pour les données d'entraînement\n",
    "X_test_scaled = scaler.transform(X_test)\n",
    "\n",
    "# Prédictions du modèle SVM sur les données de test normalisées\n",
    "y_pred = clf_svc.predict(X_test_scaled)\n",
    "\n",
    "# Calcul de la précision en comparant les prédictions avec les véritables étiquettes de test\n",
    "accuracy = accuracy_score(y_test, y_pred)\n",
    "\n",
    "# Affichage de la précision sur les données de test\n",
    "print(accuracy)\n"
   ]
  }
 ],
 "metadata": {
  "kernelspec": {
   "display_name": "Python 3",
   "language": "python",
   "name": "python3"
  },
  "language_info": {
   "codemirror_mode": {
    "name": "ipython",
    "version": 3
   },
   "file_extension": ".py",
   "mimetype": "text/x-python",
   "name": "python",
   "nbconvert_exporter": "python",
   "pygments_lexer": "ipython3",
   "version": "3.9.13"
  }
 },
 "nbformat": 4,
 "nbformat_minor": 2
}
