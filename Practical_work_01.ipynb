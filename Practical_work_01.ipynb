{
  "nbformat": 4,
  "nbformat_minor": 0,
  "metadata": {
    "colab": {
      "provenance": []
    },
    "kernelspec": {
      "name": "python3",
      "display_name": "Python 3"
    },
    "language_info": {
      "name": "python"
    }
  },
  "cells": [
    {
      "cell_type": "markdown",
      "source": [
        "# Practical work 01\n",
        "Prepared by Dr. N. Ali Saoucha\n",
        "Associate Professor A\n",
        "University of Algiers (nalisaoucha@gmail.com)"
      ],
      "metadata": {
        "id": "0V0Exx1iod46"
      }
    },
    {
      "cell_type": "markdown",
      "source": [
        "# Exercise 1: NumPy Array Manipulation\n",
        "\n",
        "1. Import the NumPy library.\n",
        "\n",
        "2. Create a NumPy array `my_array` with the following list of integers: [10, 20, 30, 40, 50].\n",
        "\n",
        "3. Calculate and print the sum, mean, median, and standard deviation of `my_array`.\n",
        "\n",
        "4. Create a new NumPy array `another_array` with the same shape as `my_array`, but filled with zeros.\n",
        "\n",
        "5. Perform element-wise addition of `my_array` and `another_array`. Print the result.\n",
        "\n",
        "6. Perform element-wise subtraction of `my_array` from `another_array`. Print the result.\n",
        "\n",
        "7. Perform element-wise multiplication of `my_array` and `another_array`. Print the result.\n",
        "\n",
        "8. Perform element-wise division of `my_array` by `another_array`. Print the result. (Be aware of division by zero)\n",
        "\n",
        "9. Reshape `my_array` into a 2D array with 2 rows and 3 columns.\n",
        "\n",
        "10. Extract and print the element at the second row and second column of the reshaped array.\n",
        "\n",
        "11. Slice and print the second and third elements from the original `my_array`.\n"
      ],
      "metadata": {
        "id": "cQSFVFYLo9Pq"
      }
    },
    {
      "cell_type": "markdown",
      "source": [
        "# Exercise 2: Data Manipulation with Pandas - Iris Dataset\n",
        "1. Import the Pandas library.\n",
        "\n",
        "2. Download the Iris dataset from the following URL and save it as \"iris_external.csv\": URL: https://archive.ics.uci.edu/dataset/53/iris\n",
        "\n",
        "3. Read the \"iris_external.csv\" file into a Pandas DataFrame. Use the attribute names as column headers (sepal length, sepal width, petal length, petal width, class).\n",
        "\n",
        "4. Display the first 5 rows of the DataFrame to get an overview of the data.\n",
        "\n",
        "5. Identify the columns in the DataFrame.\n",
        "\n",
        "6. Create a new DataFrame that includes only the columns \"sepal length,\" \"sepal width,\" and \"class.\"\n",
        "\n",
        "7. Filter the data to include only rows where the \"sepal length\" is greater than 5.0.\n",
        "\n",
        "8. Calculate the average sepal width of the selected rows and print the result.\n",
        "\n",
        "9. Group the data by the \"class\" column and calculate the mean sepal length for each class.\n",
        "\n",
        "10. Sort the classes based on the mean sepal length in descending order.\n",
        "\n",
        "11. Save the filtered and grouped data to a new CSV file with a name like \"iris_filtered.csv.\"\n",
        "\n",
        "12. Load the Iris dataset from scikit-learn into a Pandas DataFrame.\n",
        "     Hint: Use the scikit-learn's datasets module to load the dataset.\n",
        "     Create a DataFrame that includes the data and feature names as columns.\n",
        "\n",
        "13. Compare the shape of the external dataset DataFrame and the scikit-learn dataset DataFrame.\n",
        "\n",
        "14. Handle missing data by replacing NaN values or dropping rows with missing values.\n",
        "\n",
        "15. Create a bar chart to visualize the mean sepal length for each class.\n"
      ],
      "metadata": {
        "id": "jmAcFTvEoc3V"
      }
    },
    {
      "cell_type": "markdown",
      "source": [
        "# Exercise 3: Data Visualization with Matplotlib\n",
        "\n",
        "1. Import the Matplotlib library's pyplot module as plt.\n",
        "\n",
        "2. Create a list `x` with values 1, 2, 3, 4, and a list `y` with corresponding values 10, 20, 25, 30.\n",
        "\n",
        "3. Create a line plot using `x` and `y`. Customize the plot by adding a title, labels for the x and y axes, and a legend.\n",
        "\n",
        "4. Generate a scatter plot using `x` and `y`. Customize the plot by changing the marker style and color.\n",
        "\n",
        "5. Create a bar chart with labels \"Category A,\" \"Category B,\" \"Category C,\" and \"Category D\" along the x-axis and corresponding values 15, 20, 10, 30 along the y-axis.\n",
        "\n",
        "6. Create a histogram for a dataset of your choice. You can generate random data or use a dataset you have access to.\n",
        "\n",
        "7. Combine all the plots (line, scatter, bar, pie, and histogram) into a single figure with multiple subplots (arranged in a grid).\n",
        "\n",
        "8. Save one of the individual plots (e.g., the line plot or the scatter plot) to an image file (e.g., \"plot.png\").\n",
        "\n",
        "9. Add appropriate titles and labels to all subplots in the combined figure."
      ],
      "metadata": {
        "id": "Mqgf6lqmHrr3"
      }
    },
    {
      "cell_type": "code",
      "source": [],
      "metadata": {
        "id": "sTOW-baIuI8J"
      },
      "execution_count": null,
      "outputs": []
    }
  ]
}