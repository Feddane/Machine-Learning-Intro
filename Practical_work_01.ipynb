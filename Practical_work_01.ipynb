{
  "cells": [
    {
      "cell_type": "markdown",
      "metadata": {
        "id": "0V0Exx1iod46"
      },
      "source": [
        "# Practical work 01\n",
        "Prepared by Dr. N. Ali Saoucha\n",
        "Associate Professor A\n",
        "University of Algiers (nalisaoucha@gmail.com)"
      ]
    },
    {
      "cell_type": "markdown",
      "metadata": {
        "id": "cQSFVFYLo9Pq"
      },
      "source": [
        "# Exercise 1: NumPy Array Manipulation\n",
        "\n",
        "1. Import the NumPy library.\n",
        "\n",
        "2. Create a NumPy array `my_array` with the following list of integers: [10, 20, 30, 40, 50].\n",
        "\n",
        "3. Calculate and print the sum, mean, median, and standard deviation of `my_array`.\n",
        "\n",
        "4. Create a new NumPy array `another_array` with the same shape as `my_array`, but filled with zeros.\n",
        "\n",
        "5. Perform element-wise addition of `my_array` and `another_array`. Print the result.\n",
        "\n",
        "6. Perform element-wise subtraction of `my_array` from `another_array`. Print the result.\n",
        "\n",
        "7. Perform element-wise multiplication of `my_array` and `another_array`. Print the result.\n",
        "\n",
        "8. Perform element-wise division of `my_array` by `another_array`. Print the result. (Be aware of division by zero)\n",
        "\n",
        "9. Reshape `my_array` into a 2D array with 2 rows and 3 columns.\n",
        "\n",
        "10. Extract and print the element at the second row and second column of the reshaped array.\n",
        "\n",
        "11. Slice and print the second and third elements from the original `my_array`.\n"
      ]
    },
    {
      "cell_type": "code",
      "execution_count": 19,
      "metadata": {},
      "outputs": [
        {
          "name": "stdout",
          "output_type": "stream",
          "text": [
            "Sum=  150\n",
            "Mean=  30.0\n",
            "Median=  30.0\n",
            "Standard Deviation=  14.142135623730951\n",
            "Sum of two arrays =  [10 20 30 40 50]\n",
            "Subtraction of two arrays=  [10 20 30 40 50]\n",
            "Multiplication of two arrays =  [0 0 0 0 0]\n",
            "Division of two arrays =  [0. 0. 0. 0. 0.]\n",
            "50\n",
            "[20 30]\n"
          ]
        }
      ],
      "source": [
        "#1\n",
        "import numpy as np\n",
        "\n",
        "#2\n",
        "my_array = np.array([10, 20, 30, 40, 50])\n",
        "\n",
        "#3\n",
        "print(\"Sum= \", np.sum(my_array))\n",
        "print(\"Mean= \", np.mean(my_array))\n",
        "print(\"Median= \", np.median(my_array))\n",
        "print(\"Standard Deviation= \", np.std(my_array))\n",
        "\n",
        "#4\n",
        "another_array = np.array([0, 0, 0, 0, 0])  #or np.zeros_like(my_array)\n",
        "\n",
        "#5\n",
        "print(\"Sum of two arrays = \", my_array  + another_array)\n",
        "\n",
        "#6\n",
        "print(\"Subtraction of two arrays= \", my_array  - another_array)\n",
        "\n",
        "#7\n",
        "print(\"Multiplication of two arrays = \", my_array  * another_array)\n",
        "\n",
        "#8\n",
        "# Ensure the output array has the same data type as the input arrays\n",
        "output_array = np.zeros_like(my_array, dtype=float)\n",
        "print(\"Division of two arrays = \", np.divide(my_array, another_array, out=output_array, where=another_array != 0))\n",
        "\n",
        "# 9\n",
        "my_array = np.append(my_array, [60])\n",
        "reshaped_array = my_array.reshape(2, 3)\n",
        "\n",
        "#10\n",
        "print(reshaped_array[1, 1])\n",
        "\n",
        "#11\n",
        "slice = my_array[1:3]\n",
        "print(slice)\n",
        "\n"
      ]
    },
    {
      "cell_type": "markdown",
      "metadata": {
        "id": "jmAcFTvEoc3V"
      },
      "source": [
        "# Exercise 2: Data Manipulation with Pandas - Iris Dataset\n",
        "1. Import the Pandas library.\n",
        "\n",
        "2. Download the Iris dataset from the following URL and save it as \"iris_external.csv\": URL: https://archive.ics.uci.edu/dataset/53/iris\n",
        "\n",
        "3. Read the \"iris_external.csv\" file into a Pandas DataFrame. Use the attribute names as column headers (sepal length, sepal width, petal length, petal width, class).\n",
        "\n",
        "4. Display the first 5 rows of the DataFrame to get an overview of the data.\n",
        "\n",
        "5. Identify the columns in the DataFrame.\n",
        "\n",
        "6. Create a new DataFrame that includes only the columns \"sepal length,\" \"sepal width,\" and \"class.\"\n",
        "\n",
        "7. Filter the data to include only rows where the \"sepal length\" is greater than 5.0.\n",
        "\n",
        "8. Calculate the average sepal width of the selected rows and print the result.\n",
        "\n",
        "9. Group the data by the \"class\" column and calculate the mean sepal length for each class.\n",
        "\n",
        "10. Sort the classes based on the mean sepal length in descending order.\n",
        "\n",
        "11. Save the filtered and grouped data to a new CSV file with a name like \"iris_filtered.csv.\"\n",
        "\n",
        "12. Load the Iris dataset from scikit-learn into a Pandas DataFrame.\n",
        "     Hint: Use the scikit-learn's datasets module to load the dataset.\n",
        "     Create a DataFrame that includes the data and feature names as columns.\n",
        "\n",
        "13. Compare the shape of the external dataset DataFrame and the scikit-learn dataset DataFrame.\n",
        "\n",
        "14. Handle missing data by replacing NaN values or dropping rows with missing values.\n",
        "\n",
        "15. Create a bar chart to visualize the mean sepal length for each class.\n"
      ]
    },
    {
      "cell_type": "code",
      "execution_count": null,
      "metadata": {},
      "outputs": [],
      "source": [
        "#1\n",
        "import pandas as pd\n",
        "\n",
        "#2\n"
      ]
    },
    {
      "cell_type": "markdown",
      "metadata": {
        "id": "Mqgf6lqmHrr3"
      },
      "source": [
        "# Exercise 3: Data Visualization with Matplotlib\n",
        "\n",
        "1. Import the Matplotlib library's pyplot module as plt.\n",
        "\n",
        "2. Create a list `x` with values 1, 2, 3, 4, and a list `y` with corresponding values 10, 20, 25, 30.\n",
        "\n",
        "3. Create a line plot using `x` and `y`. Customize the plot by adding a title, labels for the x and y axes, and a legend.\n",
        "\n",
        "4. Generate a scatter plot using `x` and `y`. Customize the plot by changing the marker style and color.\n",
        "\n",
        "5. Create a bar chart with labels \"Category A,\" \"Category B,\" \"Category C,\" and \"Category D\" along the x-axis and corresponding values 15, 20, 10, 30 along the y-axis.\n",
        "\n",
        "6. Create a histogram for a dataset of your choice. You can generate random data or use a dataset you have access to.\n",
        "\n",
        "7. Combine all the plots (line, scatter, bar, pie, and histogram) into a single figure with multiple subplots (arranged in a grid).\n",
        "\n",
        "8. Save one of the individual plots (e.g., the line plot or the scatter plot) to an image file (e.g., \"plot.png\").\n",
        "\n",
        "9. Add appropriate titles and labels to all subplots in the combined figure."
      ]
    },
    {
      "cell_type": "code",
      "execution_count": null,
      "metadata": {
        "id": "sTOW-baIuI8J"
      },
      "outputs": [],
      "source": []
    }
  ],
  "metadata": {
    "colab": {
      "provenance": []
    },
    "kernelspec": {
      "display_name": "Python 3",
      "name": "python3"
    },
    "language_info": {
      "codemirror_mode": {
        "name": "ipython",
        "version": 3
      },
      "file_extension": ".py",
      "mimetype": "text/x-python",
      "name": "python",
      "nbconvert_exporter": "python",
      "pygments_lexer": "ipython3",
      "version": "3.9.13"
    }
  },
  "nbformat": 4,
  "nbformat_minor": 0
}
